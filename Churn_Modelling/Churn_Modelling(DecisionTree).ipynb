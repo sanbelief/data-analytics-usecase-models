{
 "cells": [
  {
   "cell_type": "markdown",
   "metadata": {
    "extensions": {
     "jupyter_dashboards": {
      "version": 1,
      "views": {
       "grid_default": {
        "col": 0,
        "height": 4,
        "hidden": false,
        "row": 0,
        "width": 4
       },
       "report_default": {
        "hidden": false
       }
      }
     }
    }
   },
   "source": [
    "# DecisionTreeImplementation(Gini_Gain)"
   ]
  },
  {
   "cell_type": "code",
   "execution_count": 1,
   "metadata": {
    "extensions": {
     "jupyter_dashboards": {
      "version": 1,
      "views": {
       "grid_default": {
        "hidden": true
       },
       "report_default": {
        "hidden": false
       }
      }
     }
    }
   },
   "outputs": [],
   "source": [
    "import pandas as pd\n",
    "import warnings\n",
    "warnings.filterwarnings('ignore')\n",
    "import pymongo\n",
    "from pymongo import MongoClient\n",
    "client = MongoClient('localhost',27017)\n",
    "db = client.BankData\n",
    "collection = db.Data"
   ]
  },
  {
   "cell_type": "code",
   "execution_count": 2,
   "metadata": {
    "extensions": {
     "jupyter_dashboards": {
      "version": 1,
      "views": {
       "grid_default": {
        "hidden": true
       },
       "report_default": {
        "hidden": true
       }
      }
     }
    }
   },
   "outputs": [],
   "source": [
    "df = pd.DataFrame(list(collection.find()))"
   ]
  },
  {
   "cell_type": "markdown",
   "metadata": {
    "extensions": {
     "jupyter_dashboards": {
      "version": 1,
      "views": {
       "grid_default": {
        "col": 4,
        "height": 4,
        "hidden": false,
        "row": 26,
        "width": 4
       },
       "report_default": {
        "hidden": false
       }
      }
     }
    }
   },
   "source": [
    "# DataSet Imported From MongoDB"
   ]
  },
  {
   "cell_type": "code",
   "execution_count": 3,
   "metadata": {
    "extensions": {
     "jupyter_dashboards": {
      "version": 1,
      "views": {
       "grid_default": {
        "hidden": true
       },
       "report_default": {
        "hidden": true
       }
      }
     }
    }
   },
   "outputs": [
    {
     "name": "stdout",
     "output_type": "stream",
     "text": [
      "{'_id': ObjectId('5a4b23a15e5f5465b9fbbba4'), 'RowNumber': 1, 'CustomerId': 15634602, 'Surname': 'Hargrave', 'CreditScore': 619, 'Geography': 'France', 'Gender': 'Female', 'Age': 42, 'Tenure': 2, 'Balance': 0, 'NumOfProducts': 1, 'HasCrCard': 1, 'IsActiveMember': 1, 'EstimatedSalary': 101348.88, 'Exited': 1}\n",
      "{'_id': ObjectId('5a4b23a15e5f5465b9fbbba5'), 'RowNumber': 3, 'CustomerId': 15619304, 'Surname': 'Onio', 'CreditScore': 502, 'Geography': 'France', 'Gender': 'Female', 'Age': 42, 'Tenure': 8, 'Balance': 159660.8, 'NumOfProducts': 3, 'HasCrCard': 1, 'IsActiveMember': 0, 'EstimatedSalary': 113931.57, 'Exited': 1}\n",
      "{'_id': ObjectId('5a4b23a15e5f5465b9fbbba6'), 'RowNumber': 4, 'CustomerId': 15701354, 'Surname': 'Boni', 'CreditScore': 699, 'Geography': 'France', 'Gender': 'Female', 'Age': 39, 'Tenure': 1, 'Balance': 0, 'NumOfProducts': 2, 'HasCrCard': 0, 'IsActiveMember': 0, 'EstimatedSalary': 93826.63, 'Exited': 0}\n",
      "{'_id': ObjectId('5a4b23a15e5f5465b9fbbba7'), 'RowNumber': 2, 'CustomerId': 15647311, 'Surname': 'Hill', 'CreditScore': 608, 'Geography': 'Spain', 'Gender': 'Female', 'Age': 41, 'Tenure': 1, 'Balance': 83807.86, 'NumOfProducts': 1, 'HasCrCard': 0, 'IsActiveMember': 1, 'EstimatedSalary': 112542.58, 'Exited': 0}\n",
      "{'_id': ObjectId('5a4b23a15e5f5465b9fbbba8'), 'RowNumber': 5, 'CustomerId': 15737888, 'Surname': 'Mitchell', 'CreditScore': 850, 'Geography': 'Spain', 'Gender': 'Female', 'Age': 43, 'Tenure': 2, 'Balance': 125510.82, 'NumOfProducts': 1, 'HasCrCard': 1, 'IsActiveMember': 1, 'EstimatedSalary': 79084.1, 'Exited': 0}\n"
     ]
    }
   ],
   "source": [
    "doc=collection.find().limit(5)\n",
    "for d in doc:\n",
    "    print(d)"
   ]
  },
  {
   "cell_type": "markdown",
   "metadata": {
    "extensions": {
     "jupyter_dashboards": {
      "version": 1,
      "views": {
       "grid_default": {
        "col": 8,
        "height": 4,
        "hidden": false,
        "row": 26,
        "width": 4
       },
       "report_default": {
        "hidden": false
       }
      }
     }
    }
   },
   "source": [
    "# DataSet"
   ]
  },
  {
   "cell_type": "code",
   "execution_count": 4,
   "metadata": {
    "extensions": {
     "jupyter_dashboards": {
      "version": 1,
      "views": {
       "grid_default": {
        "col": 0,
        "height": 7,
        "hidden": false,
        "row": 65,
        "width": 12
       },
       "report_default": {
        "hidden": false
       }
      }
     }
    }
   },
   "outputs": [
    {
     "data": {
      "text/html": [
       "<div>\n",
       "<style scoped>\n",
       "    .dataframe tbody tr th:only-of-type {\n",
       "        vertical-align: middle;\n",
       "    }\n",
       "\n",
       "    .dataframe tbody tr th {\n",
       "        vertical-align: top;\n",
       "    }\n",
       "\n",
       "    .dataframe thead th {\n",
       "        text-align: right;\n",
       "    }\n",
       "</style>\n",
       "<table border=\"1\" class=\"dataframe\">\n",
       "  <thead>\n",
       "    <tr style=\"text-align: right;\">\n",
       "      <th></th>\n",
       "      <th>Age</th>\n",
       "      <th>Balance</th>\n",
       "      <th>CreditScore</th>\n",
       "      <th>CustomerId</th>\n",
       "      <th>EstimatedSalary</th>\n",
       "      <th>Exited</th>\n",
       "      <th>Gender</th>\n",
       "      <th>Geography</th>\n",
       "      <th>HasCrCard</th>\n",
       "      <th>IsActiveMember</th>\n",
       "      <th>NumOfProducts</th>\n",
       "      <th>RowNumber</th>\n",
       "      <th>Surname</th>\n",
       "      <th>Tenure</th>\n",
       "      <th>_id</th>\n",
       "    </tr>\n",
       "  </thead>\n",
       "  <tbody>\n",
       "    <tr>\n",
       "      <th>0</th>\n",
       "      <td>42</td>\n",
       "      <td>0.00</td>\n",
       "      <td>619</td>\n",
       "      <td>15634602</td>\n",
       "      <td>101348.88</td>\n",
       "      <td>1</td>\n",
       "      <td>Female</td>\n",
       "      <td>France</td>\n",
       "      <td>1</td>\n",
       "      <td>1</td>\n",
       "      <td>1</td>\n",
       "      <td>1</td>\n",
       "      <td>Hargrave</td>\n",
       "      <td>2</td>\n",
       "      <td>5a4b23a15e5f5465b9fbbba4</td>\n",
       "    </tr>\n",
       "    <tr>\n",
       "      <th>1</th>\n",
       "      <td>42</td>\n",
       "      <td>159660.80</td>\n",
       "      <td>502</td>\n",
       "      <td>15619304</td>\n",
       "      <td>113931.57</td>\n",
       "      <td>1</td>\n",
       "      <td>Female</td>\n",
       "      <td>France</td>\n",
       "      <td>1</td>\n",
       "      <td>0</td>\n",
       "      <td>3</td>\n",
       "      <td>3</td>\n",
       "      <td>Onio</td>\n",
       "      <td>8</td>\n",
       "      <td>5a4b23a15e5f5465b9fbbba5</td>\n",
       "    </tr>\n",
       "    <tr>\n",
       "      <th>2</th>\n",
       "      <td>39</td>\n",
       "      <td>0.00</td>\n",
       "      <td>699</td>\n",
       "      <td>15701354</td>\n",
       "      <td>93826.63</td>\n",
       "      <td>0</td>\n",
       "      <td>Female</td>\n",
       "      <td>France</td>\n",
       "      <td>0</td>\n",
       "      <td>0</td>\n",
       "      <td>2</td>\n",
       "      <td>4</td>\n",
       "      <td>Boni</td>\n",
       "      <td>1</td>\n",
       "      <td>5a4b23a15e5f5465b9fbbba6</td>\n",
       "    </tr>\n",
       "    <tr>\n",
       "      <th>3</th>\n",
       "      <td>41</td>\n",
       "      <td>83807.86</td>\n",
       "      <td>608</td>\n",
       "      <td>15647311</td>\n",
       "      <td>112542.58</td>\n",
       "      <td>0</td>\n",
       "      <td>Female</td>\n",
       "      <td>Spain</td>\n",
       "      <td>0</td>\n",
       "      <td>1</td>\n",
       "      <td>1</td>\n",
       "      <td>2</td>\n",
       "      <td>Hill</td>\n",
       "      <td>1</td>\n",
       "      <td>5a4b23a15e5f5465b9fbbba7</td>\n",
       "    </tr>\n",
       "    <tr>\n",
       "      <th>4</th>\n",
       "      <td>43</td>\n",
       "      <td>125510.82</td>\n",
       "      <td>850</td>\n",
       "      <td>15737888</td>\n",
       "      <td>79084.10</td>\n",
       "      <td>0</td>\n",
       "      <td>Female</td>\n",
       "      <td>Spain</td>\n",
       "      <td>1</td>\n",
       "      <td>1</td>\n",
       "      <td>1</td>\n",
       "      <td>5</td>\n",
       "      <td>Mitchell</td>\n",
       "      <td>2</td>\n",
       "      <td>5a4b23a15e5f5465b9fbbba8</td>\n",
       "    </tr>\n",
       "  </tbody>\n",
       "</table>\n",
       "</div>"
      ],
      "text/plain": [
       "   Age    Balance  CreditScore  CustomerId  EstimatedSalary  Exited  Gender  \\\n",
       "0   42       0.00          619    15634602        101348.88       1  Female   \n",
       "1   42  159660.80          502    15619304        113931.57       1  Female   \n",
       "2   39       0.00          699    15701354         93826.63       0  Female   \n",
       "3   41   83807.86          608    15647311        112542.58       0  Female   \n",
       "4   43  125510.82          850    15737888         79084.10       0  Female   \n",
       "\n",
       "  Geography  HasCrCard  IsActiveMember  NumOfProducts  RowNumber   Surname  \\\n",
       "0    France          1               1              1          1  Hargrave   \n",
       "1    France          1               0              3          3      Onio   \n",
       "2    France          0               0              2          4      Boni   \n",
       "3     Spain          0               1              1          2      Hill   \n",
       "4     Spain          1               1              1          5  Mitchell   \n",
       "\n",
       "   Tenure                       _id  \n",
       "0       2  5a4b23a15e5f5465b9fbbba4  \n",
       "1       8  5a4b23a15e5f5465b9fbbba5  \n",
       "2       1  5a4b23a15e5f5465b9fbbba6  \n",
       "3       1  5a4b23a15e5f5465b9fbbba7  \n",
       "4       2  5a4b23a15e5f5465b9fbbba8  "
      ]
     },
     "execution_count": 4,
     "metadata": {},
     "output_type": "execute_result"
    }
   ],
   "source": [
    "df.head(5)"
   ]
  },
  {
   "cell_type": "code",
   "execution_count": 5,
   "metadata": {
    "extensions": {
     "jupyter_dashboards": {
      "version": 1,
      "views": {
       "grid_default": {
        "col": 4,
        "height": 10,
        "hidden": true,
        "row": 0,
        "width": 4
       },
       "report_default": {
        "hidden": false
       }
      }
     }
    }
   },
   "outputs": [
    {
     "data": {
      "text/plain": [
       "Age                  int64\n",
       "Balance            float64\n",
       "CreditScore          int64\n",
       "CustomerId           int64\n",
       "EstimatedSalary    float64\n",
       "Exited               int64\n",
       "Gender              object\n",
       "Geography           object\n",
       "HasCrCard            int64\n",
       "IsActiveMember       int64\n",
       "NumOfProducts        int64\n",
       "RowNumber            int64\n",
       "Surname             object\n",
       "Tenure               int64\n",
       "_id                 object\n",
       "dtype: object"
      ]
     },
     "execution_count": 5,
     "metadata": {},
     "output_type": "execute_result"
    }
   ],
   "source": [
    "df.dtypes"
   ]
  },
  {
   "cell_type": "code",
   "execution_count": 6,
   "metadata": {
    "extensions": {
     "jupyter_dashboards": {
      "version": 1,
      "views": {
       "grid_default": {
        "hidden": true
       },
       "report_default": {
        "hidden": true
       }
      }
     }
    }
   },
   "outputs": [],
   "source": [
    "df['Exited'] = df['Exited'].astype(float)"
   ]
  },
  {
   "cell_type": "code",
   "execution_count": 7,
   "metadata": {
    "extensions": {
     "jupyter_dashboards": {
      "version": 1,
      "views": {
       "grid_default": {
        "hidden": true
       },
       "report_default": {
        "hidden": true
       }
      }
     }
    }
   },
   "outputs": [],
   "source": [
    "df.drop(['RowNumber','Surname','_id','CustomerId'],1, inplace=True)"
   ]
  },
  {
   "cell_type": "code",
   "execution_count": 8,
   "metadata": {
    "extensions": {
     "jupyter_dashboards": {
      "version": 1,
      "views": {
       "grid_default": {
        "hidden": true
       },
       "report_default": {
        "hidden": true
       }
      }
     }
    }
   },
   "outputs": [],
   "source": [
    "df_md=pd.get_dummies(df, columns=['Geography', 'Gender'], drop_first=True)"
   ]
  },
  {
   "cell_type": "code",
   "execution_count": 9,
   "metadata": {
    "extensions": {
     "jupyter_dashboards": {
      "version": 1,
      "views": {
       "grid_default": {
        "hidden": true
       },
       "report_default": {
        "hidden": true
       }
      }
     }
    }
   },
   "outputs": [],
   "source": [
    "target_name = 'Exited'\n",
    "feat_names = df_md.drop(['Exited'],axis=1).columns\n",
    "X = df_md.drop('Exited', axis=1)\n",
    "Y = df_md[['Exited']]"
   ]
  },
  {
   "cell_type": "code",
   "execution_count": 10,
   "metadata": {
    "extensions": {
     "jupyter_dashboards": {
      "version": 1,
      "views": {
       "grid_default": {
        "hidden": true
       },
       "report_default": {
        "hidden": true
       }
      }
     }
    }
   },
   "outputs": [
    {
     "name": "stderr",
     "output_type": "stream",
     "text": [
      "D:\\Anaconda\\lib\\site-packages\\sklearn\\cross_validation.py:41: DeprecationWarning: This module was deprecated in version 0.18 in favor of the model_selection module into which all the refactored classes and functions are moved. Also note that the interface of the new CV iterators are different from that of this module. This module will be removed in 0.20.\n",
      "  \"This module will be removed in 0.20.\", DeprecationWarning)\n"
     ]
    }
   ],
   "source": [
    "import warnings\n",
    "warnings.filterwarnings('ignore')\n",
    "\n",
    "import numpy as np\n",
    "from sklearn.cross_validation import train_test_split\n",
    "from sklearn.tree import DecisionTreeClassifier\n",
    "from sklearn.metrics import accuracy_score\n",
    "from sklearn import tree\n",
    "\n"
   ]
  },
  {
   "cell_type": "code",
   "execution_count": 11,
   "metadata": {
    "extensions": {
     "jupyter_dashboards": {
      "version": 1,
      "views": {
       "grid_default": {
        "hidden": true
       },
       "report_default": {
        "hidden": true
       }
      }
     }
    }
   },
   "outputs": [],
   "source": [
    "X_train, X_test, y_train, y_test = train_test_split( X, Y, test_size = 0.3, random_state = 100)"
   ]
  },
  {
   "cell_type": "code",
   "execution_count": 12,
   "metadata": {
    "extensions": {
     "jupyter_dashboards": {
      "version": 1,
      "views": {
       "grid_default": {
        "col": 8,
        "height": 4,
        "hidden": false,
        "row": 55,
        "width": 4
       },
       "report_default": {
        "hidden": false
       }
      }
     }
    }
   },
   "outputs": [],
   "source": [
    "#import sklearn\n",
    "#from sklearn import model_selection\n",
    "#kfold = model_selection.KFold(n_splits=10, random_state=3)\n",
    "#model = DecisionTreeClassifier(criterion='gini', splitter='best', max_depth=None, min_samples_split=2, min_samples_leaf=1, min_weight_fraction_leaf=0.0, max_features=None, random_state=None, max_leaf_nodes=None, min_impurity_decrease=0.0, min_impurity_split=None, class_weight=None, presort=False)\n",
    "#results = model_selection.cross_val_score(model,X_train, y_train, cv=kfold)\n",
    "#print(\"Accuracy: %.3f%% (%.3f%%)\" % (results.mean()*100.0, results.std()*100.0))"
   ]
  },
  {
   "cell_type": "code",
   "execution_count": 13,
   "metadata": {
    "extensions": {
     "jupyter_dashboards": {
      "version": 1,
      "views": {
       "grid_default": {
        "hidden": true
       },
       "report_default": {
        "hidden": true
       }
      }
     }
    }
   },
   "outputs": [],
   "source": [
    "#help(results)"
   ]
  },
  {
   "cell_type": "markdown",
   "metadata": {
    "extensions": {
     "jupyter_dashboards": {
      "version": 1,
      "views": {
       "grid_default": {
        "col": 4,
        "height": 4,
        "hidden": false,
        "row": 55,
        "width": 4
       },
       "report_default": {
        "hidden": false
       }
      }
     }
    }
   },
   "source": [
    "# Model Creation & It's Performance"
   ]
  },
  {
   "cell_type": "code",
   "execution_count": 14,
   "metadata": {
    "extensions": {
     "jupyter_dashboards": {
      "version": 1,
      "views": {
       "grid_default": {
        "col": 0,
        "height": 7,
        "hidden": false,
        "row": 8,
        "width": 4
       },
       "report_default": {
        "hidden": false
       }
      }
     }
    }
   },
   "outputs": [
    {
     "data": {
      "text/plain": [
       "DecisionTreeClassifier(class_weight=None, criterion='gini', max_depth=None,\n",
       "            max_features=None, max_leaf_nodes=None,\n",
       "            min_impurity_decrease=0.0, min_impurity_split=None,\n",
       "            min_samples_leaf=1, min_samples_split=2,\n",
       "            min_weight_fraction_leaf=0.0, presort=False, random_state=None,\n",
       "            splitter='best')"
      ]
     },
     "execution_count": 14,
     "metadata": {},
     "output_type": "execute_result"
    }
   ],
   "source": [
    "clf_gini = DecisionTreeClassifier(criterion='gini', splitter='best', max_depth=None, min_samples_split=2, min_samples_leaf=1, min_weight_fraction_leaf=0.0, max_features=None, random_state=None, max_leaf_nodes=None, min_impurity_decrease=0.0, min_impurity_split=None, class_weight=None, presort=False)\n",
    "clf_gini.fit(X_train, y_train)"
   ]
  },
  {
   "cell_type": "code",
   "execution_count": 15,
   "metadata": {
    "extensions": {
     "jupyter_dashboards": {
      "version": 1,
      "views": {
       "grid_default": {
        "col": 0,
        "height": 4,
        "hidden": false,
        "row": 4,
        "width": 4
       },
       "report_default": {
        "hidden": false
       }
      }
     }
    }
   },
   "outputs": [],
   "source": [
    "#clf_gini.predict([[45,91549.8,765,47139.4,1,1,1,2,0,1,0]])"
   ]
  },
  {
   "cell_type": "code",
   "execution_count": 16,
   "metadata": {
    "extensions": {
     "jupyter_dashboards": {
      "version": 1,
      "views": {
       "grid_default": {
        "col": null,
        "height": 12,
        "hidden": true,
        "row": 1,
        "width": null
       },
       "report_default": {
        "hidden": false
       }
      }
     }
    }
   },
   "outputs": [],
   "source": [
    "#import graphviz \n",
    "#\n",
    "#from sklearn import tree\n",
    "#\n",
    "#\n",
    "#dot_data = tree.export_graphviz(clf_gini, out_file=None, \n",
    "#                         feature_names=feat_names,  \n",
    "#                         class_names='Exited',  \n",
    "#                         filled=True, rounded=True,  \n",
    "#                         special_characters=True)  \n",
    "#\n",
    "#graph = graphviz.Source(dot_data) \n",
    "#graph"
   ]
  },
  {
   "cell_type": "code",
   "execution_count": 17,
   "metadata": {
    "extensions": {
     "jupyter_dashboards": {
      "version": 1,
      "views": {
       "grid_default": {
        "col": 4,
        "height": 4,
        "hidden": false,
        "row": 0,
        "width": 4
       },
       "report_default": {
        "hidden": false
       }
      }
     }
    }
   },
   "outputs": [
    {
     "data": {
      "text/plain": [
       "array([ 0.,  0.,  0., ...,  0.,  0.,  0.])"
      ]
     },
     "execution_count": 17,
     "metadata": {},
     "output_type": "execute_result"
    }
   ],
   "source": [
    "y_pred = clf_gini.predict(X_test)\n",
    "y_pred"
   ]
  },
  {
   "cell_type": "markdown",
   "metadata": {
    "extensions": {
     "jupyter_dashboards": {
      "version": 1,
      "views": {
       "grid_default": {
        "col": 4,
        "height": 4,
        "hidden": false,
        "row": 59,
        "width": 4
       },
       "report_default": {
        "hidden": false
       }
      }
     }
    }
   },
   "source": [
    "Confusion Metrics"
   ]
  },
  {
   "cell_type": "code",
   "execution_count": 18,
   "metadata": {
    "extensions": {
     "jupyter_dashboards": {
      "version": 1,
      "views": {
       "grid_default": {
        "col": 8,
        "height": 4,
        "hidden": false,
        "row": 0,
        "width": 4
       },
       "report_default": {
        "hidden": false
       }
      }
     }
    }
   },
   "outputs": [
    {
     "data": {
      "text/plain": [
       "array([[2068,  325],\n",
       "       [ 311,  296]], dtype=int64)"
      ]
     },
     "execution_count": 18,
     "metadata": {},
     "output_type": "execute_result"
    }
   ],
   "source": [
    "from sklearn.metrics import confusion_matrix\n",
    "confusion_matrix(y_test, y_pred)"
   ]
  },
  {
   "cell_type": "markdown",
   "metadata": {
    "extensions": {
     "jupyter_dashboards": {
      "version": 1,
      "views": {
       "grid_default": {
        "col": 8,
        "height": 4,
        "hidden": false,
        "row": 59,
        "width": 4
       },
       "report_default": {
        "hidden": false
       }
      }
     }
    }
   },
   "source": [
    "Model Accuracy_Score"
   ]
  },
  {
   "cell_type": "code",
   "execution_count": 19,
   "metadata": {
    "extensions": {
     "jupyter_dashboards": {
      "version": 1,
      "views": {
       "grid_default": {
        "col": 4,
        "height": 4,
        "hidden": false,
        "row": 4,
        "width": 4
       },
       "report_default": {
        "hidden": false
       }
      }
     }
    }
   },
   "outputs": [
    {
     "name": "stdout",
     "output_type": "stream",
     "text": [
      "Accuracy is  78.8\n"
     ]
    }
   ],
   "source": [
    "print(\"Accuracy is \", accuracy_score(y_test,y_pred)*100)"
   ]
  },
  {
   "cell_type": "code",
   "execution_count": 20,
   "metadata": {
    "extensions": {
     "jupyter_dashboards": {
      "version": 1,
      "views": {
       "grid_default": {
        "col": 8,
        "height": 4,
        "hidden": false,
        "row": 4,
        "width": 4
       },
       "report_default": {
        "hidden": false
       }
      }
     }
    }
   },
   "outputs": [],
   "source": [
    "#result = clf_gini.score(X_test, y_test)\n",
    "#print(\"Accuracy: %.3f%%\" % (result*100.0))"
   ]
  },
  {
   "cell_type": "code",
   "execution_count": 21,
   "metadata": {
    "extensions": {
     "jupyter_dashboards": {
      "version": 1,
      "views": {
       "grid_default": {
        "col": 0,
        "height": 9,
        "hidden": false,
        "row": 15,
        "width": 4
       },
       "report_default": {
        "hidden": false
       }
      }
     }
    }
   },
   "outputs": [
    {
     "data": {
      "image/png": "[encoded data removed]",
      "text/plain": [
       "<matplotlib.figure.Figure at 0x1923671c7b8>"
      ]
     },
     "metadata": {},
     "output_type": "display_data"
    }
   ],
   "source": [
    "from sklearn.metrics import roc_curve, auc\n",
    "import matplotlib.pyplot as plt\n",
    "plt.style.use('ggplot')\n",
    "%matplotlib inline\n",
    "\n",
    "Y_predict_probabilities = clf_gini.predict_proba(X_test)[:,1]\n",
    "\n",
    "fpr, tpr, _ = roc_curve(y_test, Y_predict_probabilities)\n",
    "roc_auc = auc(fpr, tpr)\n",
    "\n",
    "plt.figure(figsize=(12,8))\n",
    "plt.plot(fpr, tpr, color='darkorange',\n",
    "         lw=2, label='ROC curve (area = %0.2f)' % roc_auc)\n",
    "plt.plot([0, 1], [0, 1], color='navy', lw=2, linestyle='--')\n",
    "plt.xlim([0.0, 1.0])\n",
    "plt.ylim([0.0, 1.05])\n",
    "plt.xlabel('False Positive Rate')\n",
    "plt.ylabel('True Positive Rate')\n",
    "plt.title('ROC Curve')\n",
    "plt.legend(loc=\"lower right\")\n",
    "plt.show()"
   ]
  },
  {
   "cell_type": "code",
   "execution_count": 22,
   "metadata": {
    "extensions": {
     "jupyter_dashboards": {
      "version": 1,
      "views": {
       "grid_default": {
        "hidden": true
       },
       "report_default": {
        "hidden": true
       }
      }
     }
    }
   },
   "outputs": [],
   "source": [
    "y_test['Predicted'] = y_pred\n",
    "#y_test.drop(['Exited'],1, inplace=True)\n"
   ]
  },
  {
   "cell_type": "code",
   "execution_count": 23,
   "metadata": {
    "extensions": {
     "jupyter_dashboards": {
      "version": 1,
      "views": {
       "grid_default": {
        "hidden": true
       },
       "report_default": {
        "hidden": false
       }
      }
     }
    }
   },
   "outputs": [
    {
     "data": {
      "text/html": [
       "<div>\n",
       "<style scoped>\n",
       "    .dataframe tbody tr th:only-of-type {\n",
       "        vertical-align: middle;\n",
       "    }\n",
       "\n",
       "    .dataframe tbody tr th {\n",
       "        vertical-align: top;\n",
       "    }\n",
       "\n",
       "    .dataframe thead th {\n",
       "        text-align: right;\n",
       "    }\n",
       "</style>\n",
       "<table border=\"1\" class=\"dataframe\">\n",
       "  <thead>\n",
       "    <tr style=\"text-align: right;\">\n",
       "      <th></th>\n",
       "      <th>Exited</th>\n",
       "      <th>Predicted</th>\n",
       "    </tr>\n",
       "  </thead>\n",
       "  <tbody>\n",
       "    <tr>\n",
       "      <th>8018</th>\n",
       "      <td>0.0</td>\n",
       "      <td>0.0</td>\n",
       "    </tr>\n",
       "    <tr>\n",
       "      <th>9225</th>\n",
       "      <td>0.0</td>\n",
       "      <td>0.0</td>\n",
       "    </tr>\n",
       "    <tr>\n",
       "      <th>3854</th>\n",
       "      <td>0.0</td>\n",
       "      <td>0.0</td>\n",
       "    </tr>\n",
       "    <tr>\n",
       "      <th>2029</th>\n",
       "      <td>0.0</td>\n",
       "      <td>1.0</td>\n",
       "    </tr>\n",
       "    <tr>\n",
       "      <th>3539</th>\n",
       "      <td>0.0</td>\n",
       "      <td>0.0</td>\n",
       "    </tr>\n",
       "    <tr>\n",
       "      <th>1942</th>\n",
       "      <td>0.0</td>\n",
       "      <td>0.0</td>\n",
       "    </tr>\n",
       "    <tr>\n",
       "      <th>1250</th>\n",
       "      <td>0.0</td>\n",
       "      <td>0.0</td>\n",
       "    </tr>\n",
       "    <tr>\n",
       "      <th>2817</th>\n",
       "      <td>0.0</td>\n",
       "      <td>0.0</td>\n",
       "    </tr>\n",
       "    <tr>\n",
       "      <th>4211</th>\n",
       "      <td>0.0</td>\n",
       "      <td>0.0</td>\n",
       "    </tr>\n",
       "    <tr>\n",
       "      <th>477</th>\n",
       "      <td>0.0</td>\n",
       "      <td>0.0</td>\n",
       "    </tr>\n",
       "  </tbody>\n",
       "</table>\n",
       "</div>"
      ],
      "text/plain": [
       "      Exited  Predicted\n",
       "8018     0.0        0.0\n",
       "9225     0.0        0.0\n",
       "3854     0.0        0.0\n",
       "2029     0.0        1.0\n",
       "3539     0.0        0.0\n",
       "1942     0.0        0.0\n",
       "1250     0.0        0.0\n",
       "2817     0.0        0.0\n",
       "4211     0.0        0.0\n",
       "477      0.0        0.0"
      ]
     },
     "execution_count": 23,
     "metadata": {},
     "output_type": "execute_result"
    }
   ],
   "source": [
    "y_test.head(10)"
   ]
  },
  {
   "cell_type": "markdown",
   "metadata": {
    "extensions": {
     "jupyter_dashboards": {
      "version": 1,
      "views": {
       "grid_default": {
        "col": 4,
        "height": 4,
        "hidden": false,
        "row": 8,
        "width": 4
       },
       "report_default": {
        "hidden": false
       }
      }
     }
    }
   },
   "source": [
    "# Customized_Data_Generation\n"
   ]
  },
  {
   "cell_type": "code",
   "execution_count": 24,
   "metadata": {
    "extensions": {
     "jupyter_dashboards": {
      "version": 1,
      "views": {
       "grid_default": {
        "hidden": true
       },
       "report_default": {
        "hidden": true
       }
      }
     }
    }
   },
   "outputs": [],
   "source": [
    "import random"
   ]
  },
  {
   "cell_type": "code",
   "execution_count": 25,
   "metadata": {
    "extensions": {
     "jupyter_dashboards": {
      "version": 1,
      "views": {
       "grid_default": {
        "col": 4,
        "height": 10,
        "hidden": false,
        "row": 12,
        "width": 7
       },
       "report_default": {
        "hidden": false
       }
      }
     }
    }
   },
   "outputs": [
    {
     "name": "stdout",
     "output_type": "stream",
     "text": [
      "Enter the Values of Attributes for Generation of DataSet\n",
      "Enter Total Number of Record -> 1000\n",
      "Enter Lower limit for Age -> 18\n",
      "Enter Upper limit for Age -> 72\n",
      "Enter Lower limit for Balance -> 0\n",
      "Enter Upper limit for Balance -> 200000\n",
      "Enter Lower limit for CreditScore -> 300\n",
      "Enter Upper limit for CreditScore -> 950\n",
      "Enter Lower limit for EstimatedSalary -> 5000\n",
      "Enter Upper limit for EstimatedSalary -> 200000\n",
      "Enter your Data % for Male -> 45\n",
      "Enter your Data % for Female -> 55\n",
      "Enter your Data % for France -> 35\n",
      "Enter your Data % for Germany -> 35\n",
      "Enter your Data % for Spain -> 30\n",
      "Enter Minimum Number of Product -> 1\n",
      "Enter Maximum Number of Product -> 4\n",
      "Enter Minimum Tenure -> 1\n",
      "Enter Maximum Tenure -> 10\n"
     ]
    }
   ],
   "source": [
    "print(\"Enter the Values of Attributes for Generation of DataSet\")\n",
    "\n",
    "N=int(input(\"Enter Total Number of Record -> \"))\n",
    "\n",
    "ageLow=int(input(\"Enter Lower limit for Age -> \"))\n",
    "ageUp=int(input(\"Enter Upper limit for Age -> \"))\n",
    "\n",
    "balanceLow=float(input(\"Enter Lower limit for Balance -> \"))\n",
    "balanceUp=float(input(\"Enter Upper limit for Balance -> \"))\n",
    "\n",
    "creditLow=int(input(\"Enter Lower limit for CreditScore -> \"))\n",
    "creditUp=int(input(\"Enter Upper limit for CreditScore -> \"))\n",
    "\n",
    "estimatedLow=float(input(\"Enter Lower limit for EstimatedSalary -> \"))\n",
    "estimatedUp=float(input(\"Enter Upper limit for EstimatedSalary -> \"))\n",
    "\n",
    "male=int(input(\"Enter your Data % for Male -> \"))\n",
    "male=((male*N)/100)\n",
    "malePer=int(male)\n",
    "\n",
    "female=int(input(\"Enter your Data % for Female -> \"))\n",
    "female=((female*N)/100)\n",
    "femalePer=int(female)\n",
    "\n",
    "france=int(input(\"Enter your Data % for France -> \"))\n",
    "france=((france*N)/100)\n",
    "francePer=int(france)\n",
    "\n",
    "germany=int(input(\"Enter your Data % for Germany -> \")) \n",
    "germany=((germany*N)/100)\n",
    "germanyPer=int(germany)\n",
    "\n",
    "spain=int(input(\"Enter your Data % for Spain -> \"))\n",
    "spain=((spain*N)/100)\n",
    "spainPer=int(spain)\n",
    "\n",
    "noOfProductMin=int(input(\"Enter Minimum Number of Product -> \"))\n",
    "noOfProductMax=int(input(\"Enter Maximum Number of Product -> \"))\n",
    "\n",
    "tenureMin=int(input(\"Enter Minimum Tenure -> \"))\n",
    "tenureMax=int(input(\"Enter Maximum Tenure -> \"))\n",
    "\n",
    "\n",
    "\n",
    "dataPre = pd.DataFrame({'Age': np.random.randint(ageLow,ageUp+1,N),\n",
    "                   'Balance':np.random.randint(balanceLow,balanceUp+1,N),\n",
    "                   'CreditScore':np.random.randint(creditLow,creditUp+1,N),\n",
    "                   'EstimatedSalary':np.random.randint(estimatedLow,estimatedUp+1,N),\n",
    "                   \"Gender\":([\"Male\"]*malePer+ [\"Female\"]*femalePer),\n",
    "                   \"Geography\":(['France']*francePer+['Germany']*germanyPer+['Spain']*spainPer),\n",
    "                   \"HasCrCard\":np.random.randint(0,2,N),\n",
    "                   \"IsActiveMember\":np.random.randint(0,2,N),\n",
    "                   \"NumOfProducts\":np.random.randint(noOfProductMin,noOfProductMax+1,N),\n",
    "                   \"Tenure\":np.random.randint(tenureMin,tenureMax+1,N)\n",
    "                  },columns=['Age','Balance','CreditScore','EstimatedSalary','Gender','Geography','HasCrCard','IsActiveMember',\n",
    "                            'NumOfProducts','Tenure'])"
   ]
  },
  {
   "cell_type": "markdown",
   "metadata": {
    "extensions": {
     "jupyter_dashboards": {
      "version": 1,
      "views": {
       "grid_default": {
        "col": 0,
        "height": 4,
        "hidden": false,
        "row": 72,
        "width": 4
       },
       "report_default": {
        "hidden": false
       }
      }
     }
    }
   },
   "source": [
    "# Overview of Data Generated"
   ]
  },
  {
   "cell_type": "code",
   "execution_count": 26,
   "metadata": {
    "extensions": {
     "jupyter_dashboards": {
      "version": 1,
      "views": {
       "grid_default": {
        "col": 0,
        "height": 7,
        "hidden": false,
        "row": 24,
        "width": 4
       },
       "report_default": {
        "hidden": false
       }
      }
     }
    }
   },
   "outputs": [],
   "source": [
    "#dataPre.dtypes"
   ]
  },
  {
   "cell_type": "code",
   "execution_count": 27,
   "metadata": {
    "extensions": {
     "jupyter_dashboards": {
      "version": 1,
      "views": {
       "grid_default": {
        "hidden": true
       },
       "report_default": {
        "hidden": true
       }
      }
     }
    }
   },
   "outputs": [],
   "source": [
    "dataPre['Balance'] = dataPre['Balance'].astype(float)\n",
    "dataPre['EstimatedSalary'] = dataPre['EstimatedSalary'].astype(float)"
   ]
  },
  {
   "cell_type": "code",
   "execution_count": 28,
   "metadata": {
    "extensions": {
     "jupyter_dashboards": {
      "version": 1,
      "views": {
       "grid_default": {
        "hidden": true
       },
       "report_default": {
        "hidden": true
       }
      }
     }
    }
   },
   "outputs": [],
   "source": [
    "import sklearn.utils\n",
    "dataPre1 = sklearn.utils.shuffle(dataPre.Gender)\n",
    "dataPre2 = sklearn.utils.shuffle(dataPre.Geography)"
   ]
  },
  {
   "cell_type": "code",
   "execution_count": 29,
   "metadata": {
    "extensions": {
     "jupyter_dashboards": {
      "version": 1,
      "views": {
       "grid_default": {
        "hidden": true
       },
       "report_default": {
        "hidden": true
       }
      }
     }
    }
   },
   "outputs": [],
   "source": [
    "dataPre1.tolist()\n",
    "dataPre1 = np.asarray(dataPre1)\n",
    "\n",
    "dataPre2.tolist()\n",
    "dataPre2= np.asarray(dataPre2)"
   ]
  },
  {
   "cell_type": "code",
   "execution_count": 30,
   "metadata": {
    "extensions": {
     "jupyter_dashboards": {
      "version": 1,
      "views": {
       "grid_default": {
        "hidden": true
       },
       "report_default": {
        "hidden": true
       }
      }
     }
    }
   },
   "outputs": [],
   "source": [
    "dataPre['Gender']=dataPre1\n",
    "dataPre['Geography']= dataPre2"
   ]
  },
  {
   "cell_type": "code",
   "execution_count": 31,
   "metadata": {
    "extensions": {
     "jupyter_dashboards": {
      "version": 1,
      "views": {
       "grid_default": {
        "col": 0,
        "height": 24,
        "hidden": false,
        "row": 31,
        "width": 9
       },
       "report_default": {
        "hidden": false
       }
      }
     }
    }
   },
   "outputs": [
    {
     "data": {
      "text/html": [
       "<div>\n",
       "<style scoped>\n",
       "    .dataframe tbody tr th:only-of-type {\n",
       "        vertical-align: middle;\n",
       "    }\n",
       "\n",
       "    .dataframe tbody tr th {\n",
       "        vertical-align: top;\n",
       "    }\n",
       "\n",
       "    .dataframe thead th {\n",
       "        text-align: right;\n",
       "    }\n",
       "</style>\n",
       "<table border=\"1\" class=\"dataframe\">\n",
       "  <thead>\n",
       "    <tr style=\"text-align: right;\">\n",
       "      <th></th>\n",
       "      <th>Age</th>\n",
       "      <th>Balance</th>\n",
       "      <th>CreditScore</th>\n",
       "      <th>EstimatedSalary</th>\n",
       "      <th>Gender</th>\n",
       "      <th>Geography</th>\n",
       "      <th>HasCrCard</th>\n",
       "      <th>IsActiveMember</th>\n",
       "      <th>NumOfProducts</th>\n",
       "      <th>Tenure</th>\n",
       "    </tr>\n",
       "  </thead>\n",
       "  <tbody>\n",
       "    <tr>\n",
       "      <th>0</th>\n",
       "      <td>57</td>\n",
       "      <td>44504.0</td>\n",
       "      <td>454</td>\n",
       "      <td>26874.0</td>\n",
       "      <td>Male</td>\n",
       "      <td>Germany</td>\n",
       "      <td>1</td>\n",
       "      <td>1</td>\n",
       "      <td>2</td>\n",
       "      <td>4</td>\n",
       "    </tr>\n",
       "    <tr>\n",
       "      <th>1</th>\n",
       "      <td>55</td>\n",
       "      <td>162648.0</td>\n",
       "      <td>630</td>\n",
       "      <td>87405.0</td>\n",
       "      <td>Male</td>\n",
       "      <td>Germany</td>\n",
       "      <td>1</td>\n",
       "      <td>0</td>\n",
       "      <td>3</td>\n",
       "      <td>8</td>\n",
       "    </tr>\n",
       "    <tr>\n",
       "      <th>2</th>\n",
       "      <td>49</td>\n",
       "      <td>83004.0</td>\n",
       "      <td>482</td>\n",
       "      <td>105079.0</td>\n",
       "      <td>Female</td>\n",
       "      <td>Germany</td>\n",
       "      <td>1</td>\n",
       "      <td>0</td>\n",
       "      <td>1</td>\n",
       "      <td>10</td>\n",
       "    </tr>\n",
       "    <tr>\n",
       "      <th>3</th>\n",
       "      <td>28</td>\n",
       "      <td>169335.0</td>\n",
       "      <td>869</td>\n",
       "      <td>142448.0</td>\n",
       "      <td>Male</td>\n",
       "      <td>Germany</td>\n",
       "      <td>1</td>\n",
       "      <td>0</td>\n",
       "      <td>1</td>\n",
       "      <td>1</td>\n",
       "    </tr>\n",
       "    <tr>\n",
       "      <th>4</th>\n",
       "      <td>52</td>\n",
       "      <td>37479.0</td>\n",
       "      <td>333</td>\n",
       "      <td>149978.0</td>\n",
       "      <td>Female</td>\n",
       "      <td>Germany</td>\n",
       "      <td>0</td>\n",
       "      <td>1</td>\n",
       "      <td>4</td>\n",
       "      <td>2</td>\n",
       "    </tr>\n",
       "  </tbody>\n",
       "</table>\n",
       "</div>"
      ],
      "text/plain": [
       "   Age   Balance  CreditScore  EstimatedSalary  Gender Geography  HasCrCard  \\\n",
       "0   57   44504.0          454          26874.0    Male   Germany          1   \n",
       "1   55  162648.0          630          87405.0    Male   Germany          1   \n",
       "2   49   83004.0          482         105079.0  Female   Germany          1   \n",
       "3   28  169335.0          869         142448.0    Male   Germany          1   \n",
       "4   52   37479.0          333         149978.0  Female   Germany          0   \n",
       "\n",
       "   IsActiveMember  NumOfProducts  Tenure  \n",
       "0               1              2       4  \n",
       "1               0              3       8  \n",
       "2               0              1      10  \n",
       "3               0              1       1  \n",
       "4               1              4       2  "
      ]
     },
     "execution_count": 31,
     "metadata": {},
     "output_type": "execute_result"
    }
   ],
   "source": [
    "dataPre.head(5)"
   ]
  },
  {
   "cell_type": "code",
   "execution_count": 32,
   "metadata": {
    "extensions": {
     "jupyter_dashboards": {
      "version": 1,
      "views": {
       "grid_default": {
        "hidden": true
       },
       "report_default": {
        "hidden": true
       }
      }
     }
    }
   },
   "outputs": [],
   "source": [
    "dataPre_dm=pd.get_dummies(dataPre, columns=['Geography', 'Gender'], drop_first=True)"
   ]
  },
  {
   "cell_type": "code",
   "execution_count": 33,
   "metadata": {
    "extensions": {
     "jupyter_dashboards": {
      "version": 1,
      "views": {
       "grid_default": {
        "hidden": true
       },
       "report_default": {
        "hidden": true
       }
      }
     }
    }
   },
   "outputs": [],
   "source": [
    "dataPre_dm=dataPre_dm.convert_objects(convert_numeric=True)"
   ]
  },
  {
   "cell_type": "code",
   "execution_count": 34,
   "metadata": {
    "extensions": {
     "jupyter_dashboards": {
      "version": 1,
      "views": {
       "grid_default": {
        "hidden": true
       },
       "report_default": {
        "hidden": true
       }
      }
     }
    }
   },
   "outputs": [],
   "source": [
    "a=clf_gini.predict(dataPre_dm)\n"
   ]
  },
  {
   "cell_type": "code",
   "execution_count": 35,
   "metadata": {
    "extensions": {
     "jupyter_dashboards": {
      "version": 1,
      "views": {
       "grid_default": {
        "col": 0,
        "height": 10,
        "hidden": false,
        "row": 55,
        "width": 4
       },
       "report_default": {
        "hidden": false
       }
      }
     }
    }
   },
   "outputs": [
    {
     "name": "stdout",
     "output_type": "stream",
     "text": [
      "<class 'pandas.core.frame.DataFrame'>\n",
      "RangeIndex: 1000 entries, 0 to 999\n",
      "Data columns (total 11 columns):\n",
      "Age                1000 non-null int32\n",
      "Balance            1000 non-null float64\n",
      "CreditScore        1000 non-null int32\n",
      "EstimatedSalary    1000 non-null float64\n",
      "Gender             1000 non-null object\n",
      "Geography          1000 non-null object\n",
      "HasCrCard          1000 non-null int32\n",
      "IsActiveMember     1000 non-null int32\n",
      "NumOfProducts      1000 non-null int32\n",
      "Tenure             1000 non-null int32\n",
      "Exited             1000 non-null float64\n",
      "dtypes: float64(3), int32(6), object(2)\n",
      "memory usage: 62.6+ KB\n"
     ]
    }
   ],
   "source": [
    "dataPre['Exited'] = a\n",
    "dataPre.info()"
   ]
  },
  {
   "cell_type": "code",
   "execution_count": 36,
   "metadata": {
    "extensions": {
     "jupyter_dashboards": {
      "version": 1,
      "views": {
       "grid_default": {
        "hidden": true
       },
       "report_default": {
        "hidden": true
       }
      }
     }
    }
   },
   "outputs": [],
   "source": [
    "dataPre['Exited'] = dataPre['Exited'].astype(int)"
   ]
  },
  {
   "cell_type": "code",
   "execution_count": 37,
   "metadata": {
    "extensions": {
     "jupyter_dashboards": {
      "version": 1,
      "views": {
       "grid_default": {
        "hidden": true
       },
       "report_default": {
        "hidden": true
       }
      }
     }
    }
   },
   "outputs": [],
   "source": [
    "#dataPre.to_csv(\"C:/Users/wn00112434/Desktop/TestData.csv\")"
   ]
  },
  {
   "cell_type": "markdown",
   "metadata": {
    "extensions": {
     "jupyter_dashboards": {
      "version": 1,
      "views": {
       "grid_default": {
        "col": 8,
        "height": 4,
        "hidden": false,
        "row": 8,
        "width": 4
       },
       "report_default": {
        "hidden": false
       }
      }
     }
    }
   },
   "source": [
    "# Real_time_Visualization_Bokeh"
   ]
  },
  {
   "cell_type": "code",
   "execution_count": 38,
   "metadata": {
    "extensions": {
     "jupyter_dashboards": {
      "version": 1,
      "views": {
       "grid_default": {
        "hidden": true
       },
       "report_default": {
        "hidden": true
       }
      }
     }
    }
   },
   "outputs": [],
   "source": [
    "import pandas as pd\n",
    "import numpy as np\n",
    "from bokeh.io import show, output_file, output_notebook\n",
    "from bokeh.models import FactorRange, ColumnDataSource, PrintfTickFormatter, LabelSet\n",
    "from bokeh.palettes import Spectral6\n",
    "from bokeh.plotting import figure\n",
    "from bokeh.transform import factor_cmap\n",
    "from bokeh.layouts import gridplot"
   ]
  },
  {
   "cell_type": "code",
   "execution_count": 39,
   "metadata": {
    "extensions": {
     "jupyter_dashboards": {
      "version": 1,
      "views": {
       "grid_default": {
        "hidden": true
       },
       "report_default": {
        "hidden": true
       }
      }
     }
    }
   },
   "outputs": [
    {
     "data": {
      "text/html": [
       "\n",
       "    <div class=\"bk-root\">\n",
       "        <a href=\"https://bokeh.pydata.org\" target=\"_blank\" class=\"bk-logo bk-logo-small bk-logo-notebook\"></a>\n",
       "        <span id=\"33cbfd17-0242-4827-b3ce-cb40e5dc484d\">Loading BokehJS ...</span>\n",
       "    </div>"
      ]
     },
     "metadata": {},
     "output_type": "display_data"
    },
    {
     "data": {
      "application/javascript": [
       "\n",
       "(function(root) {\n",
       "  function now() {\n",
       "    return new Date();\n",
       "  }\n",
       "\n",
       "  var force = true;\n",
       "\n",
       "  if (typeof (root._bokeh_onload_callbacks) === \"undefined\" || force === true) {\n",
       "    root._bokeh_onload_callbacks = [];\n",
       "    root._bokeh_is_loading = undefined;\n",
       "  }\n",
       "\n",
       "  var JS_MIME_TYPE = 'application/javascript';\n",
       "  var HTML_MIME_TYPE = 'text/html';\n",
       "  var EXEC_MIME_TYPE = 'application/vnd.bokehjs_exec.v0+json';\n",
       "  var CLASS_NAME = 'output_bokeh rendered_html';\n",
       "\n",
       "  /**\n",
       "   * Render data to the DOM node\n",
       "   */\n",
       "  function render(props, node) {\n",
       "    var script = document.createElement(\"script\");\n",
       "    node.appendChild(script);\n",
       "  }\n",
       "\n",
       "  /**\n",
       "   * Handle when an output is cleared or removed\n",
       "   */\n",
       "  function handleClearOutput(event, handle) {\n",
       "    var cell = handle.cell;\n",
       "\n",
       "    var id = cell.output_area._bokeh_element_id;\n",
       "    var server_id = cell.output_area._bokeh_server_id;\n",
       "    // Clean up Bokeh references\n",
       "    if (id !== undefined) {\n",
       "      Bokeh.index[id].model.document.clear();\n",
       "      delete Bokeh.index[id];\n",
       "    }\n",
       "\n",
       "    if (server_id !== undefined) {\n",
       "      // Clean up Bokeh references\n",
       "      var cmd = \"from bokeh.io.state import curstate; print(curstate().uuid_to_server['\" + server_id + \"'].get_sessions()[0].document.roots[0]._id)\";\n",
       "      cell.notebook.kernel.execute(cmd, {\n",
       "        iopub: {\n",
       "          output: function(msg) {\n",
       "            var element_id = msg.content.text.trim();\n",
       "            Bokeh.index[element_id].model.document.clear();\n",
       "            delete Bokeh.index[element_id];\n",
       "          }\n",
       "        }\n",
       "      });\n",
       "      // Destroy server and session\n",
       "      var cmd = \"import bokeh.io.notebook as ion; ion.destroy_server('\" + server_id + \"')\";\n",
       "      cell.notebook.kernel.execute(cmd);\n",
       "    }\n",
       "  }\n",
       "\n",
       "  /**\n",
       "   * Handle when a new output is added\n",
       "   */\n",
       "  function handleAddOutput(event, handle) {\n",
       "    var output_area = handle.output_area;\n",
       "    var output = handle.output;\n",
       "\n",
       "    // limit handleAddOutput to display_data with EXEC_MIME_TYPE content only\n",
       "    if ((output.output_type != \"display_data\") || (!output.data.hasOwnProperty(EXEC_MIME_TYPE))) {\n",
       "      return\n",
       "    }\n",
       "\n",
       "    var toinsert = output_area.element.find(\".\" + CLASS_NAME.split(' ')[0]);\n",
       "\n",
       "    if (output.metadata[EXEC_MIME_TYPE][\"id\"] !== undefined) {\n",
       "      toinsert[0].firstChild.textContent = output.data[JS_MIME_TYPE];\n",
       "      // store reference to embed id on output_area\n",
       "      output_area._bokeh_element_id = output.metadata[EXEC_MIME_TYPE][\"id\"];\n",
       "    }\n",
       "    if (output.metadata[EXEC_MIME_TYPE][\"server_id\"] !== undefined) {\n",
       "      var bk_div = document.createElement(\"div\");\n",
       "      bk_div.innerHTML = output.data[HTML_MIME_TYPE];\n",
       "      var script_attrs = bk_div.children[0].attributes;\n",
       "      for (var i = 0; i < script_attrs.length; i++) {\n",
       "        toinsert[0].firstChild.setAttribute(script_attrs[i].name, script_attrs[i].value);\n",
       "      }\n",
       "      // store reference to server id on output_area\n",
       "      output_area._bokeh_server_id = output.metadata[EXEC_MIME_TYPE][\"server_id\"];\n",
       "    }\n",
       "  }\n",
       "\n",
       "  function register_renderer(events, OutputArea) {\n",
       "\n",
       "    function append_mime(data, metadata, element) {\n",
       "      // create a DOM node to render to\n",
       "      var toinsert = this.create_output_subarea(\n",
       "        metadata,\n",
       "        CLASS_NAME,\n",
       "        EXEC_MIME_TYPE\n",
       "      );\n",
       "      this.keyboard_manager.register_events(toinsert);\n",
       "      // Render to node\n",
       "      var props = {data: data, metadata: metadata[EXEC_MIME_TYPE]};\n",
       "      render(props, toinsert[0]);\n",
       "      element.append(toinsert);\n",
       "      return toinsert\n",
       "    }\n",
       "\n",
       "    /* Handle when an output is cleared or removed */\n",
       "    events.on('clear_output.CodeCell', handleClearOutput);\n",
       "    events.on('delete.Cell', handleClearOutput);\n",
       "\n",
       "    /* Handle when a new output is added */\n",
       "    events.on('output_added.OutputArea', handleAddOutput);\n",
       "\n",
       "    /**\n",
       "     * Register the mime type and append_mime function with output_area\n",
       "     */\n",
       "    OutputArea.prototype.register_mime_type(EXEC_MIME_TYPE, append_mime, {\n",
       "      /* Is output safe? */\n",
       "      safe: true,\n",
       "      /* Index of renderer in `output_area.display_order` */\n",
       "      index: 0\n",
       "    });\n",
       "  }\n",
       "\n",
       "  // register the mime type if in Jupyter Notebook environment and previously unregistered\n",
       "  if (root.Jupyter !== undefined) {\n",
       "    var events = require('base/js/events');\n",
       "    var OutputArea = require('notebook/js/outputarea').OutputArea;\n",
       "\n",
       "    if (OutputArea.prototype.mime_types().indexOf(EXEC_MIME_TYPE) == -1) {\n",
       "      register_renderer(events, OutputArea);\n",
       "    }\n",
       "  }\n",
       "\n",
       "  \n",
       "  if (typeof (root._bokeh_timeout) === \"undefined\" || force === true) {\n",
       "    root._bokeh_timeout = Date.now() + 5000;\n",
       "    root._bokeh_failed_load = false;\n",
       "  }\n",
       "\n",
       "  var NB_LOAD_WARNING = {'data': {'text/html':\n",
       "     \"<div style='background-color: #fdd'>\\n\"+\n",
       "     \"<p>\\n\"+\n",
       "     \"BokehJS does not appear to have successfully loaded. If loading BokehJS from CDN, this \\n\"+\n",
       "     \"may be due to a slow or bad network connection. Possible fixes:\\n\"+\n",
       "     \"</p>\\n\"+\n",
       "     \"<ul>\\n\"+\n",
       "     \"<li>re-rerun `output_notebook()` to attempt to load from CDN again, or</li>\\n\"+\n",
       "     \"<li>use INLINE resources instead, as so:</li>\\n\"+\n",
       "     \"</ul>\\n\"+\n",
       "     \"<code>\\n\"+\n",
       "     \"from bokeh.resources import INLINE\\n\"+\n",
       "     \"output_notebook(resources=INLINE)\\n\"+\n",
       "     \"</code>\\n\"+\n",
       "     \"</div>\"}};\n",
       "\n",
       "  function display_loaded() {\n",
       "    var el = document.getElementById(\"33cbfd17-0242-4827-b3ce-cb40e5dc484d\");\n",
       "    if (el != null) {\n",
       "      el.textContent = \"BokehJS is loading...\";\n",
       "    }\n",
       "    if (root.Bokeh !== undefined) {\n",
       "      if (el != null) {\n",
       "        el.textContent = \"BokehJS \" + root.Bokeh.version + \" successfully loaded.\";\n",
       "      }\n",
       "    } else if (Date.now() < root._bokeh_timeout) {\n",
       "      setTimeout(display_loaded, 100)\n",
       "    }\n",
       "  }\n",
       "\n",
       "\n",
       "  function run_callbacks() {\n",
       "    try {\n",
       "      root._bokeh_onload_callbacks.forEach(function(callback) { callback() });\n",
       "    }\n",
       "    finally {\n",
       "      delete root._bokeh_onload_callbacks\n",
       "    }\n",
       "    console.info(\"Bokeh: all callbacks have finished\");\n",
       "  }\n",
       "\n",
       "  function load_libs(js_urls, callback) {\n",
       "    root._bokeh_onload_callbacks.push(callback);\n",
       "    if (root._bokeh_is_loading > 0) {\n",
       "      console.log(\"Bokeh: BokehJS is being loaded, scheduling callback at\", now());\n",
       "      return null;\n",
       "    }\n",
       "    if (js_urls == null || js_urls.length === 0) {\n",
       "      run_callbacks();\n",
       "      return null;\n",
       "    }\n",
       "    console.log(\"Bokeh: BokehJS not loaded, scheduling load and callback at\", now());\n",
       "    root._bokeh_is_loading = js_urls.length;\n",
       "    for (var i = 0; i < js_urls.length; i++) {\n",
       "      var url = js_urls[i];\n",
       "      var s = document.createElement('script');\n",
       "      s.src = url;\n",
       "      s.async = false;\n",
       "      s.onreadystatechange = s.onload = function() {\n",
       "        root._bokeh_is_loading--;\n",
       "        if (root._bokeh_is_loading === 0) {\n",
       "          console.log(\"Bokeh: all BokehJS libraries loaded\");\n",
       "          run_callbacks()\n",
       "        }\n",
       "      };\n",
       "      s.onerror = function() {\n",
       "        console.warn(\"failed to load library \" + url);\n",
       "      };\n",
       "      console.log(\"Bokeh: injecting script tag for BokehJS library: \", url);\n",
       "      document.getElementsByTagName(\"head\")[0].appendChild(s);\n",
       "    }\n",
       "  };var element = document.getElementById(\"33cbfd17-0242-4827-b3ce-cb40e5dc484d\");\n",
       "  if (element == null) {\n",
       "    console.log(\"Bokeh: ERROR: autoload.js configured with elementid '33cbfd17-0242-4827-b3ce-cb40e5dc484d' but no matching script tag was found. \")\n",
       "    return false;\n",
       "  }\n",
       "\n",
       "  var js_urls = [\"https://cdn.pydata.org/bokeh/release/bokeh-0.12.13.min.js\", \"https://cdn.pydata.org/bokeh/release/bokeh-widgets-0.12.13.min.js\", \"https://cdn.pydata.org/bokeh/release/bokeh-tables-0.12.13.min.js\", \"https://cdn.pydata.org/bokeh/release/bokeh-gl-0.12.13.min.js\"];\n",
       "\n",
       "  var inline_js = [\n",
       "    function(Bokeh) {\n",
       "      Bokeh.set_log_level(\"info\");\n",
       "    },\n",
       "    \n",
       "    function(Bokeh) {\n",
       "      \n",
       "    },\n",
       "    function(Bokeh) {\n",
       "      console.log(\"Bokeh: injecting CSS: https://cdn.pydata.org/bokeh/release/bokeh-0.12.13.min.css\");\n",
       "      Bokeh.embed.inject_css(\"https://cdn.pydata.org/bokeh/release/bokeh-0.12.13.min.css\");\n",
       "      console.log(\"Bokeh: injecting CSS: https://cdn.pydata.org/bokeh/release/bokeh-widgets-0.12.13.min.css\");\n",
       "      Bokeh.embed.inject_css(\"https://cdn.pydata.org/bokeh/release/bokeh-widgets-0.12.13.min.css\");\n",
       "      console.log(\"Bokeh: injecting CSS: https://cdn.pydata.org/bokeh/release/bokeh-tables-0.12.13.min.css\");\n",
       "      Bokeh.embed.inject_css(\"https://cdn.pydata.org/bokeh/release/bokeh-tables-0.12.13.min.css\");\n",
       "    }\n",
       "  ];\n",
       "\n",
       "  function run_inline_js() {\n",
       "    \n",
       "    if ((root.Bokeh !== undefined) || (force === true)) {\n",
       "      for (var i = 0; i < inline_js.length; i++) {\n",
       "        inline_js[i].call(root, root.Bokeh);\n",
       "      }if (force === true) {\n",
       "        display_loaded();\n",
       "      }} else if (Date.now() < root._bokeh_timeout) {\n",
       "      setTimeout(run_inline_js, 100);\n",
       "    } else if (!root._bokeh_failed_load) {\n",
       "      console.log(\"Bokeh: BokehJS failed to load within specified timeout.\");\n",
       "      root._bokeh_failed_load = true;\n",
       "    } else if (force !== true) {\n",
       "      var cell = $(document.getElementById(\"33cbfd17-0242-4827-b3ce-cb40e5dc484d\")).parents('.cell').data().cell;\n",
       "      cell.output_area.append_execute_result(NB_LOAD_WARNING)\n",
       "    }\n",
       "\n",
       "  }\n",
       "\n",
       "  if (root._bokeh_is_loading === 0) {\n",
       "    console.log(\"Bokeh: BokehJS loaded, going straight to plotting\");\n",
       "    run_inline_js();\n",
       "  } else {\n",
       "    load_libs(js_urls, function() {\n",
       "      console.log(\"Bokeh: BokehJS plotting callback run at\", now());\n",
       "      run_inline_js();\n",
       "    });\n",
       "  }\n",
       "}(window));"
      ],
      "application/vnd.bokehjs_load.v0+json": "\n(function(root) {\n  function now() {\n    return new Date();\n  }\n\n  var force = true;\n\n  if (typeof (root._bokeh_onload_callbacks) === \"undefined\" || force === true) {\n    root._bokeh_onload_callbacks = [];\n    root._bokeh_is_loading = undefined;\n  }\n\n  \n\n  \n  if (typeof (root._bokeh_timeout) === \"undefined\" || force === true) {\n    root._bokeh_timeout = Date.now() + 5000;\n    root._bokeh_failed_load = false;\n  }\n\n  var NB_LOAD_WARNING = {'data': {'text/html':\n     \"<div style='background-color: #fdd'>\\n\"+\n     \"<p>\\n\"+\n     \"BokehJS does not appear to have successfully loaded. If loading BokehJS from CDN, this \\n\"+\n     \"may be due to a slow or bad network connection. Possible fixes:\\n\"+\n     \"</p>\\n\"+\n     \"<ul>\\n\"+\n     \"<li>re-rerun `output_notebook()` to attempt to load from CDN again, or</li>\\n\"+\n     \"<li>use INLINE resources instead, as so:</li>\\n\"+\n     \"</ul>\\n\"+\n     \"<code>\\n\"+\n     \"from bokeh.resources import INLINE\\n\"+\n     \"output_notebook(resources=INLINE)\\n\"+\n     \"</code>\\n\"+\n     \"</div>\"}};\n\n  function display_loaded() {\n    var el = document.getElementById(\"33cbfd17-0242-4827-b3ce-cb40e5dc484d\");\n    if (el != null) {\n      el.textContent = \"BokehJS is loading...\";\n    }\n    if (root.Bokeh !== undefined) {\n      if (el != null) {\n        el.textContent = \"BokehJS \" + root.Bokeh.version + \" successfully loaded.\";\n      }\n    } else if (Date.now() < root._bokeh_timeout) {\n      setTimeout(display_loaded, 100)\n    }\n  }\n\n\n  function run_callbacks() {\n    try {\n      root._bokeh_onload_callbacks.forEach(function(callback) { callback() });\n    }\n    finally {\n      delete root._bokeh_onload_callbacks\n    }\n    console.info(\"Bokeh: all callbacks have finished\");\n  }\n\n  function load_libs(js_urls, callback) {\n    root._bokeh_onload_callbacks.push(callback);\n    if (root._bokeh_is_loading > 0) {\n      console.log(\"Bokeh: BokehJS is being loaded, scheduling callback at\", now());\n      return null;\n    }\n    if (js_urls == null || js_urls.length === 0) {\n      run_callbacks();\n      return null;\n    }\n    console.log(\"Bokeh: BokehJS not loaded, scheduling load and callback at\", now());\n    root._bokeh_is_loading = js_urls.length;\n    for (var i = 0; i < js_urls.length; i++) {\n      var url = js_urls[i];\n      var s = document.createElement('script');\n      s.src = url;\n      s.async = false;\n      s.onreadystatechange = s.onload = function() {\n        root._bokeh_is_loading--;\n        if (root._bokeh_is_loading === 0) {\n          console.log(\"Bokeh: all BokehJS libraries loaded\");\n          run_callbacks()\n        }\n      };\n      s.onerror = function() {\n        console.warn(\"failed to load library \" + url);\n      };\n      console.log(\"Bokeh: injecting script tag for BokehJS library: \", url);\n      document.getElementsByTagName(\"head\")[0].appendChild(s);\n    }\n  };var element = document.getElementById(\"33cbfd17-0242-4827-b3ce-cb40e5dc484d\");\n  if (element == null) {\n    console.log(\"Bokeh: ERROR: autoload.js configured with elementid '33cbfd17-0242-4827-b3ce-cb40e5dc484d' but no matching script tag was found. \")\n    return false;\n  }\n\n  var js_urls = [\"https://cdn.pydata.org/bokeh/release/bokeh-0.12.13.min.js\", \"https://cdn.pydata.org/bokeh/release/bokeh-widgets-0.12.13.min.js\", \"https://cdn.pydata.org/bokeh/release/bokeh-tables-0.12.13.min.js\", \"https://cdn.pydata.org/bokeh/release/bokeh-gl-0.12.13.min.js\"];\n\n  var inline_js = [\n    function(Bokeh) {\n      Bokeh.set_log_level(\"info\");\n    },\n    \n    function(Bokeh) {\n      \n    },\n    function(Bokeh) {\n      console.log(\"Bokeh: injecting CSS: https://cdn.pydata.org/bokeh/release/bokeh-0.12.13.min.css\");\n      Bokeh.embed.inject_css(\"https://cdn.pydata.org/bokeh/release/bokeh-0.12.13.min.css\");\n      console.log(\"Bokeh: injecting CSS: https://cdn.pydata.org/bokeh/release/bokeh-widgets-0.12.13.min.css\");\n      Bokeh.embed.inject_css(\"https://cdn.pydata.org/bokeh/release/bokeh-widgets-0.12.13.min.css\");\n      console.log(\"Bokeh: injecting CSS: https://cdn.pydata.org/bokeh/release/bokeh-tables-0.12.13.min.css\");\n      Bokeh.embed.inject_css(\"https://cdn.pydata.org/bokeh/release/bokeh-tables-0.12.13.min.css\");\n    }\n  ];\n\n  function run_inline_js() {\n    \n    if ((root.Bokeh !== undefined) || (force === true)) {\n      for (var i = 0; i < inline_js.length; i++) {\n        inline_js[i].call(root, root.Bokeh);\n      }if (force === true) {\n        display_loaded();\n      }} else if (Date.now() < root._bokeh_timeout) {\n      setTimeout(run_inline_js, 100);\n    } else if (!root._bokeh_failed_load) {\n      console.log(\"Bokeh: BokehJS failed to load within specified timeout.\");\n      root._bokeh_failed_load = true;\n    } else if (force !== true) {\n      var cell = $(document.getElementById(\"33cbfd17-0242-4827-b3ce-cb40e5dc484d\")).parents('.cell').data().cell;\n      cell.output_area.append_execute_result(NB_LOAD_WARNING)\n    }\n\n  }\n\n  if (root._bokeh_is_loading === 0) {\n    console.log(\"Bokeh: BokehJS loaded, going straight to plotting\");\n    run_inline_js();\n  } else {\n    load_libs(js_urls, function() {\n      console.log(\"Bokeh: BokehJS plotting callback run at\", now());\n      run_inline_js();\n    });\n  }\n}(window));"
     },
     "metadata": {},
     "output_type": "display_data"
    }
   ],
   "source": [
    "#from bokeh.models.widgets import CheckboxGroup, Tabs, Panel\n",
    "#output_file('layout.html')\n",
    "output_notebook()\n"
   ]
  },
  {
   "cell_type": "code",
   "execution_count": 40,
   "metadata": {
    "extensions": {
     "jupyter_dashboards": {
      "version": 1,
      "views": {
       "grid_default": {
        "hidden": true
       },
       "report_default": {
        "hidden": true
       }
      }
     }
    }
   },
   "outputs": [
    {
     "data": {
      "text/html": [
       "<div>\n",
       "<style scoped>\n",
       "    .dataframe tbody tr th:only-of-type {\n",
       "        vertical-align: middle;\n",
       "    }\n",
       "\n",
       "    .dataframe tbody tr th {\n",
       "        vertical-align: top;\n",
       "    }\n",
       "\n",
       "    .dataframe thead th {\n",
       "        text-align: right;\n",
       "    }\n",
       "</style>\n",
       "<table border=\"1\" class=\"dataframe\">\n",
       "  <thead>\n",
       "    <tr style=\"text-align: right;\">\n",
       "      <th></th>\n",
       "      <th>Age</th>\n",
       "      <th>Balance</th>\n",
       "      <th>CreditScore</th>\n",
       "      <th>EstimatedSalary</th>\n",
       "      <th>Gender</th>\n",
       "      <th>Geography</th>\n",
       "      <th>HasCrCard</th>\n",
       "      <th>IsActiveMember</th>\n",
       "      <th>NumOfProducts</th>\n",
       "      <th>Tenure</th>\n",
       "      <th>Exited</th>\n",
       "    </tr>\n",
       "  </thead>\n",
       "  <tbody>\n",
       "    <tr>\n",
       "      <th>0</th>\n",
       "      <td>57</td>\n",
       "      <td>44504.0</td>\n",
       "      <td>454</td>\n",
       "      <td>26874.0</td>\n",
       "      <td>Male</td>\n",
       "      <td>Germany</td>\n",
       "      <td>1</td>\n",
       "      <td>1</td>\n",
       "      <td>2</td>\n",
       "      <td>4</td>\n",
       "      <td>0</td>\n",
       "    </tr>\n",
       "    <tr>\n",
       "      <th>1</th>\n",
       "      <td>55</td>\n",
       "      <td>162648.0</td>\n",
       "      <td>630</td>\n",
       "      <td>87405.0</td>\n",
       "      <td>Male</td>\n",
       "      <td>Germany</td>\n",
       "      <td>1</td>\n",
       "      <td>0</td>\n",
       "      <td>3</td>\n",
       "      <td>8</td>\n",
       "      <td>1</td>\n",
       "    </tr>\n",
       "    <tr>\n",
       "      <th>2</th>\n",
       "      <td>49</td>\n",
       "      <td>83004.0</td>\n",
       "      <td>482</td>\n",
       "      <td>105079.0</td>\n",
       "      <td>Female</td>\n",
       "      <td>Germany</td>\n",
       "      <td>1</td>\n",
       "      <td>0</td>\n",
       "      <td>1</td>\n",
       "      <td>10</td>\n",
       "      <td>1</td>\n",
       "    </tr>\n",
       "    <tr>\n",
       "      <th>3</th>\n",
       "      <td>28</td>\n",
       "      <td>169335.0</td>\n",
       "      <td>869</td>\n",
       "      <td>142448.0</td>\n",
       "      <td>Male</td>\n",
       "      <td>Germany</td>\n",
       "      <td>1</td>\n",
       "      <td>0</td>\n",
       "      <td>1</td>\n",
       "      <td>1</td>\n",
       "      <td>0</td>\n",
       "    </tr>\n",
       "    <tr>\n",
       "      <th>4</th>\n",
       "      <td>52</td>\n",
       "      <td>37479.0</td>\n",
       "      <td>333</td>\n",
       "      <td>149978.0</td>\n",
       "      <td>Female</td>\n",
       "      <td>Germany</td>\n",
       "      <td>0</td>\n",
       "      <td>1</td>\n",
       "      <td>4</td>\n",
       "      <td>2</td>\n",
       "      <td>1</td>\n",
       "    </tr>\n",
       "  </tbody>\n",
       "</table>\n",
       "</div>"
      ],
      "text/plain": [
       "   Age   Balance  CreditScore  EstimatedSalary  Gender Geography  HasCrCard  \\\n",
       "0   57   44504.0          454          26874.0    Male   Germany          1   \n",
       "1   55  162648.0          630          87405.0    Male   Germany          1   \n",
       "2   49   83004.0          482         105079.0  Female   Germany          1   \n",
       "3   28  169335.0          869         142448.0    Male   Germany          1   \n",
       "4   52   37479.0          333         149978.0  Female   Germany          0   \n",
       "\n",
       "   IsActiveMember  NumOfProducts  Tenure  Exited  \n",
       "0               1              2       4       0  \n",
       "1               0              3       8       1  \n",
       "2               0              1      10       1  \n",
       "3               0              1       1       0  \n",
       "4               1              4       2       1  "
      ]
     },
     "execution_count": 40,
     "metadata": {},
     "output_type": "execute_result"
    }
   ],
   "source": [
    "R_df = dataPre\n",
    "R_df.head()"
   ]
  },
  {
   "cell_type": "code",
   "execution_count": 41,
   "metadata": {
    "extensions": {
     "jupyter_dashboards": {
      "version": 1,
      "views": {
       "grid_default": {
        "hidden": true
       },
       "report_default": {
        "hidden": true
       }
      }
     }
    }
   },
   "outputs": [
    {
     "name": "stdout",
     "output_type": "stream",
     "text": [
      "Geography  Exited\n",
      "France     0           0\n",
      "           1         224\n",
      "Germany    0           0\n",
      "           1         212\n",
      "Spain      0           0\n",
      "           1         171\n",
      "Name: Exited, dtype: int32\n"
     ]
    },
    {
     "data": {
      "text/plain": [
       "[224, 212, 171]"
      ]
     },
     "execution_count": 41,
     "metadata": {},
     "output_type": "execute_result"
    }
   ],
   "source": [
    "Country= R_df.Geography.unique()\n",
    "Count = []\n",
    "draw = R_df.groupby(['Geography', 'Exited'])['Exited'].sum()\n",
    "print(draw)\n",
    "for i in draw :\n",
    "    if (i!=0):\n",
    "        Count.append(i)\n",
    "    \n",
    "Count"
   ]
  },
  {
   "cell_type": "code",
   "execution_count": 42,
   "metadata": {
    "extensions": {
     "jupyter_dashboards": {
      "version": 1,
      "views": {
       "grid_default": {
        "hidden": true
       },
       "report_default": {
        "hidden": true
       }
      }
     }
    }
   },
   "outputs": [],
   "source": [
    "ser = R_df['Geography'].value_counts()\n",
    "#help(ser)\n",
    "fr= ser.get('France')\n",
    "EpercentFR= (Count[0]/fr)*100\n",
    "NEpercentFR= 100-EpercentFR\n",
    "\n",
    "gr= ser.get('Germany')\n",
    "EpercentGR= (Count[1]/gr)*100\n",
    "NEpercentGR= 100-EpercentGR\n",
    "\n",
    "sp= ser.get('Spain')\n",
    "EpercentSP= (Count[2]/sp)*100\n",
    "NEpercentSp= 100-EpercentSP\n",
    "\n",
    "EpercentFR = EpercentFR.astype('int64')\n",
    "NEpercentFR = NEpercentFR.astype('int64')\n",
    "EpercentGR = EpercentGR.astype('int64')\n",
    "NEpercentGR = NEpercentGR.astype('int64')\n",
    "EpercentSP = EpercentSP.astype('int64')\n",
    "NEpercentSp = NEpercentSp.astype('int64')"
   ]
  },
  {
   "cell_type": "code",
   "execution_count": 43,
   "metadata": {
    "extensions": {
     "jupyter_dashboards": {
      "version": 1,
      "views": {
       "grid_default": {
        "hidden": true
       },
       "report_default": {
        "hidden": true
       }
      }
     }
    }
   },
   "outputs": [
    {
     "data": {
      "text/plain": [
       "64"
      ]
     },
     "execution_count": 43,
     "metadata": {},
     "output_type": "execute_result"
    }
   ],
   "source": [
    "EpercentFR"
   ]
  },
  {
   "cell_type": "code",
   "execution_count": 44,
   "metadata": {
    "extensions": {
     "jupyter_dashboards": {
      "version": 1,
      "views": {
       "grid_default": {
        "hidden": true
       },
       "report_default": {
        "hidden": true
       }
      }
     }
    }
   },
   "outputs": [],
   "source": [
    "source1 = ColumnDataSource(data=dict(Country=Country, Count=Count))"
   ]
  },
  {
   "cell_type": "code",
   "execution_count": 45,
   "metadata": {
    "extensions": {
     "jupyter_dashboards": {
      "version": 1,
      "views": {
       "grid_default": {
        "hidden": true
       },
       "report_default": {
        "hidden": true
       }
      }
     }
    }
   },
   "outputs": [],
   "source": [
    "p = figure(x_range=Country, plot_height=550, toolbar_location='right', title=\"No. Of Customers Exited\")\n",
    "\n",
    "labels1 = LabelSet(x='Country', y='Count', text='Count', level='glyph',\n",
    "                 x_offset=-11.5, y_offset=0, source=source1, render_mode='canvas')\n",
    "\n",
    "p.vbar(x='Country', top='Count', width=0.9, source=source1, legend=\"Country\",\n",
    "       line_color='white', fill_color=factor_cmap('Country', palette=Spectral6, factors=Country))\n",
    "\n",
    "p.xgrid.grid_line_color = None\n",
    "#p.y_range.start = 0\n",
    "#p.y_range.end = 9\n",
    "p.legend.orientation = \"vertical\"\n",
    "p.legend.location = \"bottom_right\"\n",
    "p.add_layout(labels1)"
   ]
  },
  {
   "cell_type": "code",
   "execution_count": 46,
   "metadata": {
    "extensions": {
     "jupyter_dashboards": {
      "version": 1,
      "views": {
       "grid_default": {
        "hidden": true
       },
       "report_default": {
        "hidden": true
       }
      }
     }
    }
   },
   "outputs": [],
   "source": [
    "Country= R_df.Geography.unique()\n",
    "Exited = ['yes', 'no']\n",
    "\n",
    "data = {'Country' : Country,\n",
    "        'yes'   : [EpercentFR, EpercentGR, EpercentSP],\n",
    "        'no'   : [NEpercentFR, NEpercentGR, NEpercentSp]}\n",
    "\n",
    "palette = [\"#c9d9d3\", \"#718dbf\"]\n",
    "           \n",
    "x = [ (Countries, Exits) for Countries in Country for Exits in Exited ]\n",
    "counts = sum(zip(data['yes'], data['no']), ()) # like an hstack\n",
    "\n",
    "source = ColumnDataSource(data=dict(x=x, counts=counts))\n",
    "\n",
    "p1 = figure(x_range=FactorRange(*x), plot_height=550, title=\"Percentage(Rounded-Off) of Exited By Country\",\n",
    "           toolbar_location='right')\n",
    "#tl=counts*100\n",
    "labels = LabelSet(x='x', y='counts', text='counts', level='glyph',\n",
    "                 x_offset=-13.5, y_offset=0, source=source, render_mode='canvas')\n",
    "\n",
    "\n",
    "p1.vbar(x='x', top='counts', width=0.9, source=source, line_color=\"white\",\n",
    "       fill_color=factor_cmap('x', palette=palette, factors=Exited, start=1, end=2))\n",
    "\n",
    "p1.y_range.start = 0\n",
    "p1.x_range.range_padding = 0.1\n",
    "p1.yaxis.formatter = PrintfTickFormatter(format='%0.00f %%')\n",
    "p1.xaxis.major_label_orientation = 1\n",
    "p1.xgrid.grid_line_color = None\n",
    "p1.add_layout(labels)"
   ]
  },
  {
   "cell_type": "code",
   "execution_count": 47,
   "metadata": {
    "extensions": {
     "jupyter_dashboards": {
      "version": 1,
      "views": {
       "grid_default": {
        "hidden": true
       },
       "report_default": {
        "hidden": false
       }
      }
     }
    }
   },
   "outputs": [
    {
     "data": {
      "text/html": [
       "\n",
       "<div class=\"bk-root\">\n",
       "    <div class=\"bk-plotdiv\" id=\"c9c39e1a-978e-4e8b-8b08-8e653d3a1079\"></div>\n",
       "</div>"
      ]
     },
     "metadata": {},
     "output_type": "display_data"
    },
    {
     "data": {
      "application/javascript": [
       "(function(root) {\n",
       "  function embed_document(root) {\n",
       "    \n",
       "  var docs_json = {\"836d3c1b-efef-4345-aa68-8b45eec6202c\":{\"roots\":{\"references\":[{\"attributes\":{\"bottom_units\":\"screen\",\"fill_alpha\":{\"value\":0.5},\"fill_color\":{\"value\":\"lightgrey\"},\"left_units\":\"screen\",\"level\":\"overlay\",\"line_alpha\":{\"value\":1.0},\"line_color\":{\"value\":\"black\"},\"line_dash\":[4,4],\"line_width\":{\"value\":2},\"plot\":null,\"render_mode\":\"css\",\"right_units\":\"screen\",\"top_units\":\"screen\"},\"id\":\"3d872c49-fbb2-47e3-b944-00ac5d2d04a5\",\"type\":\"BoxAnnotation\"},{\"attributes\":{\"fill_alpha\":{\"value\":0.1},\"fill_color\":{\"value\":\"#1f77b4\"},\"line_alpha\":{\"value\":0.1},\"line_color\":{\"value\":\"#1f77b4\"},\"top\":{\"field\":\"counts\"},\"width\":{\"value\":0.9},\"x\":{\"field\":\"x\"}},\"id\":\"429ba85b-4c92-40b3-89e2-3376c34440fa\",\"type\":\"VBar\"},{\"attributes\":{\"dimension\":1,\"plot\":{\"id\":\"e01f2ae0-0d6f-4e5e-933d-aa43926c65e2\",\"subtype\":\"Figure\",\"type\":\"Plot\"},\"ticker\":{\"id\":\"8f63e79f-2f25-4fee-af31-9996cbb5f3d7\",\"type\":\"BasicTicker\"}},\"id\":\"445cda4f-a18a-4256-b3d0-19f2c87548f2\",\"type\":\"Grid\"},{\"attributes\":{\"fill_color\":{\"field\":\"x\",\"transform\":{\"id\":\"0a5c7267-eb63-40c6-9657-3293d4466799\",\"type\":\"CategoricalColorMapper\"}},\"line_color\":{\"value\":\"white\"},\"top\":{\"field\":\"counts\"},\"width\":{\"value\":0.9},\"x\":{\"field\":\"x\"}},\"id\":\"513ea8b8-faf5-4eb7-9baf-93c1403bb360\",\"type\":\"VBar\"},{\"attributes\":{},\"id\":\"3c1adf71-959c-4668-8bd3-0100b1b2d8f9\",\"type\":\"HelpTool\"},{\"attributes\":{},\"id\":\"5833e5c4-4144-4035-9b72-7aee2eea6464\",\"type\":\"ResetTool\"},{\"attributes\":{},\"id\":\"759e0d01-7192-4d8a-82c6-15bdbe108963\",\"type\":\"SaveTool\"},{\"attributes\":{\"overlay\":{\"id\":\"3d872c49-fbb2-47e3-b944-00ac5d2d04a5\",\"type\":\"BoxAnnotation\"}},\"id\":\"4d2d3916-46a1-4a2c-8cff-4c8fcd9b16c8\",\"type\":\"BoxZoomTool\"},{\"attributes\":{},\"id\":\"54ac15e5-796c-47b0-b7dd-9aebf324d6db\",\"type\":\"WheelZoomTool\"},{\"attributes\":{\"level\":\"glyph\",\"plot\":{\"id\":\"5b2d6464-7ba5-4092-9fb3-0703c7bc61f6\",\"subtype\":\"Figure\",\"type\":\"Plot\"},\"source\":{\"id\":\"6b13aba3-e624-4c9a-902f-cfb6d6439f45\",\"type\":\"ColumnDataSource\"},\"text\":{\"field\":\"Count\"},\"x\":{\"field\":\"Country\"},\"x_offset\":{\"value\":-11.5},\"y\":{\"field\":\"Count\"}},\"id\":\"d19ff047-5eda-46bb-a443-b70918b8e883\",\"type\":\"LabelSet\"},{\"attributes\":{\"data_source\":{\"id\":\"1082428d-5f46-4497-a87a-e832fbf4f350\",\"type\":\"ColumnDataSource\"},\"glyph\":{\"id\":\"513ea8b8-faf5-4eb7-9baf-93c1403bb360\",\"type\":\"VBar\"},\"hover_glyph\":null,\"muted_glyph\":null,\"nonselection_glyph\":{\"id\":\"429ba85b-4c92-40b3-89e2-3376c34440fa\",\"type\":\"VBar\"},\"selection_glyph\":null,\"view\":{\"id\":\"8d186b81-0991-499a-b484-8eaf97efb535\",\"type\":\"CDSView\"}},\"id\":\"61c1114f-c7c9-4198-9254-b9b74a30730c\",\"type\":\"GlyphRenderer\"},{\"attributes\":{},\"id\":\"336ca0d2-fb24-47a5-bcff-9a76757b4b1f\",\"type\":\"PanTool\"},{\"attributes\":{},\"id\":\"f658ea7d-e465-4188-8aa3-9e79d89dad53\",\"type\":\"CategoricalTickFormatter\"},{\"attributes\":{\"below\":[{\"id\":\"6d84bd0b-f97a-4aa3-9321-f9ea96a0a2e3\",\"type\":\"CategoricalAxis\"}],\"left\":[{\"id\":\"719965ac-81d2-49cb-b497-15d86194107b\",\"type\":\"LinearAxis\"}],\"plot_height\":515,\"plot_width\":480,\"renderers\":[{\"id\":\"6d84bd0b-f97a-4aa3-9321-f9ea96a0a2e3\",\"type\":\"CategoricalAxis\"},{\"id\":\"8c1130ae-883f-4150-a645-cb40d3cb565f\",\"type\":\"Grid\"},{\"id\":\"719965ac-81d2-49cb-b497-15d86194107b\",\"type\":\"LinearAxis\"},{\"id\":\"c0f7c4d1-860d-4662-a83a-16f20cc1aac0\",\"type\":\"Grid\"},{\"id\":\"1451c605-280f-4fc9-bb73-52a02f7772ab\",\"type\":\"BoxAnnotation\"},{\"id\":\"32e8ea32-3134-4c01-92e7-a46ee82ae820\",\"type\":\"Legend\"},{\"id\":\"0c9c10bd-ff0b-4330-8404-f6bd3ed855de\",\"type\":\"GlyphRenderer\"},{\"id\":\"d19ff047-5eda-46bb-a443-b70918b8e883\",\"type\":\"LabelSet\"}],\"title\":{\"id\":\"3c0a1229-aca5-4588-8a07-e767e1c4102f\",\"type\":\"Title\"},\"toolbar\":{\"id\":\"970a1b99-10ad-4c96-bc0c-f62f56250dbd\",\"type\":\"Toolbar\"},\"toolbar_location\":null,\"x_range\":{\"id\":\"c39e74f2-c1bd-4e7c-b907-a70624e0858e\",\"type\":\"FactorRange\"},\"x_scale\":{\"id\":\"31cbe3ee-8b4c-4230-8997-dc1cc508b8e5\",\"type\":\"CategoricalScale\"},\"y_range\":{\"id\":\"7622a945-3548-4509-8afc-1e867a1cbcd2\",\"type\":\"DataRange1d\"},\"y_scale\":{\"id\":\"eec2d81c-0410-4eeb-9ca0-230846ea2ff4\",\"type\":\"LinearScale\"}},\"id\":\"5b2d6464-7ba5-4092-9fb3-0703c7bc61f6\",\"subtype\":\"Figure\",\"type\":\"Plot\"},{\"attributes\":{\"formatter\":{\"id\":\"0caf3757-6470-4676-a74b-e96db1460b92\",\"type\":\"BasicTickFormatter\"},\"plot\":{\"id\":\"5b2d6464-7ba5-4092-9fb3-0703c7bc61f6\",\"subtype\":\"Figure\",\"type\":\"Plot\"},\"ticker\":{\"id\":\"21429fb1-fd6c-4331-b679-87b84190cb43\",\"type\":\"BasicTicker\"}},\"id\":\"719965ac-81d2-49cb-b497-15d86194107b\",\"type\":\"LinearAxis\"},{\"attributes\":{\"source\":{\"id\":\"6b13aba3-e624-4c9a-902f-cfb6d6439f45\",\"type\":\"ColumnDataSource\"}},\"id\":\"e078e01c-e3b3-4873-9c1e-d54e4b9bb9ea\",\"type\":\"CDSView\"},{\"attributes\":{\"source\":{\"id\":\"1082428d-5f46-4497-a87a-e832fbf4f350\",\"type\":\"ColumnDataSource\"}},\"id\":\"8d186b81-0991-499a-b484-8eaf97efb535\",\"type\":\"CDSView\"},{\"attributes\":{\"plot\":null,\"text\":\"No. Of Customers Exited\"},\"id\":\"3c0a1229-aca5-4588-8a07-e767e1c4102f\",\"type\":\"Title\"},{\"attributes\":{\"active_drag\":\"auto\",\"active_inspect\":\"auto\",\"active_scroll\":\"auto\",\"active_tap\":\"auto\",\"tools\":[{\"id\":\"e8e63243-638d-4868-9e32-4efa168a0877\",\"type\":\"PanTool\"},{\"id\":\"50b0c3cc-89d2-47f9-9f39-ae44d97bae4c\",\"type\":\"WheelZoomTool\"},{\"id\":\"76b21102-ba52-4a3f-b4d0-85e83e7fe04e\",\"type\":\"BoxZoomTool\"},{\"id\":\"abe41494-6b9e-4cdb-9982-238e1b6cfdaa\",\"type\":\"SaveTool\"},{\"id\":\"ab5acb4b-80eb-4226-8007-ce443b8ee0ec\",\"type\":\"ResetTool\"},{\"id\":\"16dc0b51-3abc-46d7-bd0e-57a3056e5367\",\"type\":\"HelpTool\"}]},\"id\":\"970a1b99-10ad-4c96-bc0c-f62f56250dbd\",\"type\":\"Toolbar\"},{\"attributes\":{\"callback\":null,\"factors\":[\"Germany\",\"Spain\",\"France\"]},\"id\":\"c39e74f2-c1bd-4e7c-b907-a70624e0858e\",\"type\":\"FactorRange\"},{\"attributes\":{\"fill_color\":{\"field\":\"Country\",\"transform\":{\"id\":\"f51a8244-cdf2-4077-b0f8-4b17cce3fa63\",\"type\":\"CategoricalColorMapper\"}},\"line_color\":{\"value\":\"white\"},\"top\":{\"field\":\"Count\"},\"width\":{\"value\":0.9},\"x\":{\"field\":\"Country\"}},\"id\":\"bf5d2517-42ef-4208-989f-288faebf7129\",\"type\":\"VBar\"},{\"attributes\":{\"data_source\":{\"id\":\"6b13aba3-e624-4c9a-902f-cfb6d6439f45\",\"type\":\"ColumnDataSource\"},\"glyph\":{\"id\":\"bf5d2517-42ef-4208-989f-288faebf7129\",\"type\":\"VBar\"},\"hover_glyph\":null,\"muted_glyph\":null,\"nonselection_glyph\":{\"id\":\"914d0e40-2d04-4f85-b3ad-44cca4debe5f\",\"type\":\"VBar\"},\"selection_glyph\":null,\"view\":{\"id\":\"e078e01c-e3b3-4873-9c1e-d54e4b9bb9ea\",\"type\":\"CDSView\"}},\"id\":\"0c9c10bd-ff0b-4330-8404-f6bd3ed855de\",\"type\":\"GlyphRenderer\"},{\"attributes\":{\"toolbar\":{\"id\":\"bd2dde2f-ac77-42ad-896b-db52b3f44721\",\"type\":\"ProxyToolbar\"},\"toolbar_location\":\"above\"},\"id\":\"f281d17b-8fc2-4a70-8da2-11b3a44adcc3\",\"type\":\"ToolbarBox\"},{\"attributes\":{},\"id\":\"2cb5d631-bb81-483d-abd8-6fc88812882f\",\"type\":\"CategoricalTicker\"},{\"attributes\":{\"children\":[{\"id\":\"e01f2ae0-0d6f-4e5e-933d-aa43926c65e2\",\"subtype\":\"Figure\",\"type\":\"Plot\"}]},\"id\":\"6e16c892-7f3c-4ec4-bdbd-42fee0a7007c\",\"type\":\"Row\"},{\"attributes\":{\"dimension\":1,\"plot\":{\"id\":\"5b2d6464-7ba5-4092-9fb3-0703c7bc61f6\",\"subtype\":\"Figure\",\"type\":\"Plot\"},\"ticker\":{\"id\":\"21429fb1-fd6c-4331-b679-87b84190cb43\",\"type\":\"BasicTicker\"}},\"id\":\"c0f7c4d1-860d-4662-a83a-16f20cc1aac0\",\"type\":\"Grid\"},{\"attributes\":{\"formatter\":{\"id\":\"72a7b377-4aa0-40fd-a9d5-9d5ff3442d1d\",\"type\":\"CategoricalTickFormatter\"},\"plot\":{\"id\":\"5b2d6464-7ba5-4092-9fb3-0703c7bc61f6\",\"subtype\":\"Figure\",\"type\":\"Plot\"},\"ticker\":{\"id\":\"2cb5d631-bb81-483d-abd8-6fc88812882f\",\"type\":\"CategoricalTicker\"}},\"id\":\"6d84bd0b-f97a-4aa3-9321-f9ea96a0a2e3\",\"type\":\"CategoricalAxis\"},{\"attributes\":{},\"id\":\"abe41494-6b9e-4cdb-9982-238e1b6cfdaa\",\"type\":\"SaveTool\"},{\"attributes\":{},\"id\":\"31cbe3ee-8b4c-4230-8997-dc1cc508b8e5\",\"type\":\"CategoricalScale\"},{\"attributes\":{},\"id\":\"eec2d81c-0410-4eeb-9ca0-230846ea2ff4\",\"type\":\"LinearScale\"},{\"attributes\":{\"callback\":null},\"id\":\"7622a945-3548-4509-8afc-1e867a1cbcd2\",\"type\":\"DataRange1d\"},{\"attributes\":{\"callback\":null,\"factors\":[[\"Germany\",\"yes\"],[\"Germany\",\"no\"],[\"Spain\",\"yes\"],[\"Spain\",\"no\"],[\"France\",\"yes\"],[\"France\",\"no\"]],\"range_padding\":0.1},\"id\":\"6abc9b6c-ebac-46af-adb8-57b1cf1567de\",\"type\":\"FactorRange\"},{\"attributes\":{},\"id\":\"0caf3757-6470-4676-a74b-e96db1460b92\",\"type\":\"BasicTickFormatter\"},{\"attributes\":{\"bottom_units\":\"screen\",\"fill_alpha\":{\"value\":0.5},\"fill_color\":{\"value\":\"lightgrey\"},\"left_units\":\"screen\",\"level\":\"overlay\",\"line_alpha\":{\"value\":1.0},\"line_color\":{\"value\":\"black\"},\"line_dash\":[4,4],\"line_width\":{\"value\":2},\"plot\":null,\"render_mode\":\"css\",\"right_units\":\"screen\",\"top_units\":\"screen\"},\"id\":\"1451c605-280f-4fc9-bb73-52a02f7772ab\",\"type\":\"BoxAnnotation\"},{\"attributes\":{\"children\":[{\"id\":\"5b2d6464-7ba5-4092-9fb3-0703c7bc61f6\",\"subtype\":\"Figure\",\"type\":\"Plot\"}]},\"id\":\"470a3795-655c-473a-9980-3aef0226479b\",\"type\":\"Row\"},{\"attributes\":{\"factors\":[\"Germany\",\"Spain\",\"France\"],\"palette\":[\"#3288bd\",\"#99d594\",\"#e6f598\",\"#fee08b\",\"#fc8d59\",\"#d53e4f\"]},\"id\":\"f51a8244-cdf2-4077-b0f8-4b17cce3fa63\",\"type\":\"CategoricalColorMapper\"},{\"attributes\":{\"grid_line_color\":{\"value\":null},\"plot\":{\"id\":\"5b2d6464-7ba5-4092-9fb3-0703c7bc61f6\",\"subtype\":\"Figure\",\"type\":\"Plot\"},\"ticker\":{\"id\":\"2cb5d631-bb81-483d-abd8-6fc88812882f\",\"type\":\"CategoricalTicker\"}},\"id\":\"8c1130ae-883f-4150-a645-cb40d3cb565f\",\"type\":\"Grid\"},{\"attributes\":{\"active_drag\":\"auto\",\"active_inspect\":\"auto\",\"active_scroll\":\"auto\",\"active_tap\":\"auto\",\"tools\":[{\"id\":\"336ca0d2-fb24-47a5-bcff-9a76757b4b1f\",\"type\":\"PanTool\"},{\"id\":\"54ac15e5-796c-47b0-b7dd-9aebf324d6db\",\"type\":\"WheelZoomTool\"},{\"id\":\"4d2d3916-46a1-4a2c-8cff-4c8fcd9b16c8\",\"type\":\"BoxZoomTool\"},{\"id\":\"759e0d01-7192-4d8a-82c6-15bdbe108963\",\"type\":\"SaveTool\"},{\"id\":\"5833e5c4-4144-4035-9b72-7aee2eea6464\",\"type\":\"ResetTool\"},{\"id\":\"3c1adf71-959c-4668-8bd3-0100b1b2d8f9\",\"type\":\"HelpTool\"}]},\"id\":\"6076ed27-0a49-4a16-a961-30bcc4029b9c\",\"type\":\"Toolbar\"},{\"attributes\":{},\"id\":\"21429fb1-fd6c-4331-b679-87b84190cb43\",\"type\":\"BasicTicker\"},{\"attributes\":{\"tools\":[{\"id\":\"e8e63243-638d-4868-9e32-4efa168a0877\",\"type\":\"PanTool\"},{\"id\":\"50b0c3cc-89d2-47f9-9f39-ae44d97bae4c\",\"type\":\"WheelZoomTool\"},{\"id\":\"76b21102-ba52-4a3f-b4d0-85e83e7fe04e\",\"type\":\"BoxZoomTool\"},{\"id\":\"abe41494-6b9e-4cdb-9982-238e1b6cfdaa\",\"type\":\"SaveTool\"},{\"id\":\"ab5acb4b-80eb-4226-8007-ce443b8ee0ec\",\"type\":\"ResetTool\"},{\"id\":\"16dc0b51-3abc-46d7-bd0e-57a3056e5367\",\"type\":\"HelpTool\"},{\"id\":\"336ca0d2-fb24-47a5-bcff-9a76757b4b1f\",\"type\":\"PanTool\"},{\"id\":\"54ac15e5-796c-47b0-b7dd-9aebf324d6db\",\"type\":\"WheelZoomTool\"},{\"id\":\"4d2d3916-46a1-4a2c-8cff-4c8fcd9b16c8\",\"type\":\"BoxZoomTool\"},{\"id\":\"759e0d01-7192-4d8a-82c6-15bdbe108963\",\"type\":\"SaveTool\"},{\"id\":\"5833e5c4-4144-4035-9b72-7aee2eea6464\",\"type\":\"ResetTool\"},{\"id\":\"3c1adf71-959c-4668-8bd3-0100b1b2d8f9\",\"type\":\"HelpTool\"}]},\"id\":\"bd2dde2f-ac77-42ad-896b-db52b3f44721\",\"type\":\"ProxyToolbar\"},{\"attributes\":{\"items\":[{\"id\":\"915dba16-0958-4a76-bb82-a155ef13bbee\",\"type\":\"LegendItem\"}],\"location\":\"bottom_right\",\"plot\":{\"id\":\"5b2d6464-7ba5-4092-9fb3-0703c7bc61f6\",\"subtype\":\"Figure\",\"type\":\"Plot\"}},\"id\":\"32e8ea32-3134-4c01-92e7-a46ee82ae820\",\"type\":\"Legend\"},{\"attributes\":{\"plot\":null,\"text\":\"Percentage(Rounded-Off) of Exited By Country\"},\"id\":\"1b9a0451-aded-49b1-bf0f-0fd9dd24be71\",\"type\":\"Title\"},{\"attributes\":{},\"id\":\"50b0c3cc-89d2-47f9-9f39-ae44d97bae4c\",\"type\":\"WheelZoomTool\"},{\"attributes\":{\"end\":2,\"factors\":[\"yes\",\"no\"],\"palette\":[\"#c9d9d3\",\"#718dbf\"],\"start\":1},\"id\":\"0a5c7267-eb63-40c6-9657-3293d4466799\",\"type\":\"CategoricalColorMapper\"},{\"attributes\":{\"callback\":null,\"column_names\":[\"Country\",\"Count\"],\"data\":{\"Count\":[224,212,171],\"Country\":[\"Germany\",\"Spain\",\"France\"]}},\"id\":\"6b13aba3-e624-4c9a-902f-cfb6d6439f45\",\"type\":\"ColumnDataSource\"},{\"attributes\":{\"level\":\"glyph\",\"plot\":{\"id\":\"e01f2ae0-0d6f-4e5e-933d-aa43926c65e2\",\"subtype\":\"Figure\",\"type\":\"Plot\"},\"source\":{\"id\":\"1082428d-5f46-4497-a87a-e832fbf4f350\",\"type\":\"ColumnDataSource\"},\"text\":{\"field\":\"counts\"},\"x\":{\"field\":\"x\"},\"x_offset\":{\"value\":-13.5},\"y\":{\"field\":\"counts\"}},\"id\":\"8b478260-a767-4f22-97e7-4df5b87f2afd\",\"type\":\"LabelSet\"},{\"attributes\":{\"overlay\":{\"id\":\"1451c605-280f-4fc9-bb73-52a02f7772ab\",\"type\":\"BoxAnnotation\"}},\"id\":\"76b21102-ba52-4a3f-b4d0-85e83e7fe04e\",\"type\":\"BoxZoomTool\"},{\"attributes\":{\"below\":[{\"id\":\"85488346-0143-4bbf-bcf7-9d464ac7f146\",\"type\":\"CategoricalAxis\"}],\"left\":[{\"id\":\"27d23c6d-116b-4812-bfc1-8e0eaf5c9015\",\"type\":\"LinearAxis\"}],\"plot_height\":515,\"plot_width\":480,\"renderers\":[{\"id\":\"85488346-0143-4bbf-bcf7-9d464ac7f146\",\"type\":\"CategoricalAxis\"},{\"id\":\"c75dc7a2-699b-4316-ba09-e8e6c97cf9e2\",\"type\":\"Grid\"},{\"id\":\"27d23c6d-116b-4812-bfc1-8e0eaf5c9015\",\"type\":\"LinearAxis\"},{\"id\":\"445cda4f-a18a-4256-b3d0-19f2c87548f2\",\"type\":\"Grid\"},{\"id\":\"3d872c49-fbb2-47e3-b944-00ac5d2d04a5\",\"type\":\"BoxAnnotation\"},{\"id\":\"61c1114f-c7c9-4198-9254-b9b74a30730c\",\"type\":\"GlyphRenderer\"},{\"id\":\"8b478260-a767-4f22-97e7-4df5b87f2afd\",\"type\":\"LabelSet\"}],\"title\":{\"id\":\"1b9a0451-aded-49b1-bf0f-0fd9dd24be71\",\"type\":\"Title\"},\"toolbar\":{\"id\":\"6076ed27-0a49-4a16-a961-30bcc4029b9c\",\"type\":\"Toolbar\"},\"toolbar_location\":null,\"x_range\":{\"id\":\"6abc9b6c-ebac-46af-adb8-57b1cf1567de\",\"type\":\"FactorRange\"},\"x_scale\":{\"id\":\"a35b9b74-b50e-47e2-bb4f-59e326027d4d\",\"type\":\"CategoricalScale\"},\"y_range\":{\"id\":\"ee658147-3140-428e-bcbb-9a66a362c5d2\",\"type\":\"DataRange1d\"},\"y_scale\":{\"id\":\"b3a8c21e-4033-49eb-9c68-61c92bb7ffe6\",\"type\":\"LinearScale\"}},\"id\":\"e01f2ae0-0d6f-4e5e-933d-aa43926c65e2\",\"subtype\":\"Figure\",\"type\":\"Plot\"},{\"attributes\":{\"callback\":null,\"column_names\":[\"x\",\"counts\"],\"data\":{\"counts\":[64,36,60,39,56,43],\"x\":[[\"Germany\",\"yes\"],[\"Germany\",\"no\"],[\"Spain\",\"yes\"],[\"Spain\",\"no\"],[\"France\",\"yes\"],[\"France\",\"no\"]]}},\"id\":\"1082428d-5f46-4497-a87a-e832fbf4f350\",\"type\":\"ColumnDataSource\"},{\"attributes\":{\"fill_alpha\":{\"value\":0.1},\"fill_color\":{\"value\":\"#1f77b4\"},\"line_alpha\":{\"value\":0.1},\"line_color\":{\"value\":\"#1f77b4\"},\"top\":{\"field\":\"Count\"},\"width\":{\"value\":0.9},\"x\":{\"field\":\"Country\"}},\"id\":\"914d0e40-2d04-4f85-b3ad-44cca4debe5f\",\"type\":\"VBar\"},{\"attributes\":{\"format\":\"%0.00f %%\"},\"id\":\"88872a48-fe59-44e9-b722-28f8f5c034b5\",\"type\":\"PrintfTickFormatter\"},{\"attributes\":{},\"id\":\"e8e63243-638d-4868-9e32-4efa168a0877\",\"type\":\"PanTool\"},{\"attributes\":{},\"id\":\"b35f4850-5909-45c3-b219-25e5219b8b3b\",\"type\":\"CategoricalTicker\"},{\"attributes\":{\"children\":[{\"id\":\"f281d17b-8fc2-4a70-8da2-11b3a44adcc3\",\"type\":\"ToolbarBox\"},{\"id\":\"7966eeb6-0b11-4291-8af0-6e9cb293841e\",\"type\":\"Column\"}]},\"id\":\"500805ab-deb2-4862-9007-41c2ff4ee09a\",\"type\":\"Column\"},{\"attributes\":{\"formatter\":{\"id\":\"f658ea7d-e465-4188-8aa3-9e79d89dad53\",\"type\":\"CategoricalTickFormatter\"},\"major_label_orientation\":1,\"plot\":{\"id\":\"e01f2ae0-0d6f-4e5e-933d-aa43926c65e2\",\"subtype\":\"Figure\",\"type\":\"Plot\"},\"ticker\":{\"id\":\"b35f4850-5909-45c3-b219-25e5219b8b3b\",\"type\":\"CategoricalTicker\"}},\"id\":\"85488346-0143-4bbf-bcf7-9d464ac7f146\",\"type\":\"CategoricalAxis\"},{\"attributes\":{\"label\":{\"field\":\"Country\"},\"renderers\":[{\"id\":\"0c9c10bd-ff0b-4330-8404-f6bd3ed855de\",\"type\":\"GlyphRenderer\"}]},\"id\":\"915dba16-0958-4a76-bb82-a155ef13bbee\",\"type\":\"LegendItem\"},{\"attributes\":{\"grid_line_color\":{\"value\":null},\"plot\":{\"id\":\"e01f2ae0-0d6f-4e5e-933d-aa43926c65e2\",\"subtype\":\"Figure\",\"type\":\"Plot\"},\"ticker\":{\"id\":\"b35f4850-5909-45c3-b219-25e5219b8b3b\",\"type\":\"CategoricalTicker\"}},\"id\":\"c75dc7a2-699b-4316-ba09-e8e6c97cf9e2\",\"type\":\"Grid\"},{\"attributes\":{},\"id\":\"72a7b377-4aa0-40fd-a9d5-9d5ff3442d1d\",\"type\":\"CategoricalTickFormatter\"},{\"attributes\":{\"children\":[{\"id\":\"470a3795-655c-473a-9980-3aef0226479b\",\"type\":\"Row\"},{\"id\":\"6e16c892-7f3c-4ec4-bdbd-42fee0a7007c\",\"type\":\"Row\"}]},\"id\":\"7966eeb6-0b11-4291-8af0-6e9cb293841e\",\"type\":\"Column\"},{\"attributes\":{},\"id\":\"16dc0b51-3abc-46d7-bd0e-57a3056e5367\",\"type\":\"HelpTool\"},{\"attributes\":{},\"id\":\"a35b9b74-b50e-47e2-bb4f-59e326027d4d\",\"type\":\"CategoricalScale\"},{\"attributes\":{},\"id\":\"b3a8c21e-4033-49eb-9c68-61c92bb7ffe6\",\"type\":\"LinearScale\"},{\"attributes\":{},\"id\":\"ab5acb4b-80eb-4226-8007-ce443b8ee0ec\",\"type\":\"ResetTool\"},{\"attributes\":{\"formatter\":{\"id\":\"88872a48-fe59-44e9-b722-28f8f5c034b5\",\"type\":\"PrintfTickFormatter\"},\"plot\":{\"id\":\"e01f2ae0-0d6f-4e5e-933d-aa43926c65e2\",\"subtype\":\"Figure\",\"type\":\"Plot\"},\"ticker\":{\"id\":\"8f63e79f-2f25-4fee-af31-9996cbb5f3d7\",\"type\":\"BasicTicker\"}},\"id\":\"27d23c6d-116b-4812-bfc1-8e0eaf5c9015\",\"type\":\"LinearAxis\"},{\"attributes\":{\"callback\":null,\"start\":0},\"id\":\"ee658147-3140-428e-bcbb-9a66a362c5d2\",\"type\":\"DataRange1d\"},{\"attributes\":{},\"id\":\"8f63e79f-2f25-4fee-af31-9996cbb5f3d7\",\"type\":\"BasicTicker\"}],\"root_ids\":[\"500805ab-deb2-4862-9007-41c2ff4ee09a\"]},\"title\":\"Bokeh Application\",\"version\":\"0.12.13\"}};\n",
       "  var render_items = [{\"docid\":\"836d3c1b-efef-4345-aa68-8b45eec6202c\",\"elementid\":\"c9c39e1a-978e-4e8b-8b08-8e653d3a1079\",\"modelid\":\"500805ab-deb2-4862-9007-41c2ff4ee09a\"}];\n",
       "  root.Bokeh.embed.embed_items_notebook(docs_json, render_items);\n",
       "\n",
       "  }\n",
       "  if (root.Bokeh !== undefined) {\n",
       "    embed_document(root);\n",
       "  } else {\n",
       "    var attempts = 0;\n",
       "    var timer = setInterval(function(root) {\n",
       "      if (root.Bokeh !== undefined) {\n",
       "        embed_document(root);\n",
       "        clearInterval(timer);\n",
       "      }\n",
       "      attempts++;\n",
       "      if (attempts > 100) {\n",
       "        console.log(\"Bokeh: ERROR: Unable to run BokehJS code because BokehJS library is missing\")\n",
       "        clearInterval(timer);\n",
       "      }\n",
       "    }, 10, root)\n",
       "  }\n",
       "})(window);"
      ],
      "application/vnd.bokehjs_exec.v0+json": ""
     },
     "metadata": {
      "application/vnd.bokehjs_exec.v0+json": {
       "id": "500805ab-deb2-4862-9007-41c2ff4ee09a"
      }
     },
     "output_type": "display_data"
    }
   ],
   "source": [
    "grid = gridplot([p, p1], ncols=1, plot_width=480, plot_height=515)\n",
    "show(grid)"
   ]
  },
  {
   "cell_type": "code",
   "execution_count": null,
   "metadata": {
    "extensions": {
     "jupyter_dashboards": {
      "version": 1,
      "views": {
       "grid_default": {
        "hidden": true
       },
       "report_default": {
        "hidden": true
       }
      }
     }
    }
   },
   "outputs": [],
   "source": []
  },
  {
   "cell_type": "markdown",
   "metadata": {
    "extensions": {
     "jupyter_dashboards": {
      "version": 1,
      "views": {
       "grid_default": {
        "col": 4,
        "height": 4,
        "hidden": false,
        "row": 22,
        "width": 4
       },
       "report_default": {
        "hidden": false
       }
      }
     }
    }
   },
   "source": [
    "# real_time_data"
   ]
  },
  {
   "cell_type": "code",
   "execution_count": 48,
   "metadata": {
    "extensions": {
     "jupyter_dashboards": {
      "version": 1,
      "views": {
       "grid_default": {
        "hidden": true
       },
       "report_default": {
        "hidden": true
       }
      }
     }
    }
   },
   "outputs": [],
   "source": [
    "#import pandas as pd\n",
    "#import warnings\n",
    "#warnings.filterwarnings('ignore')\n",
    "#import pymongo\n",
    "#from pymongo import MongoClient\n",
    "#client = MongoClient('localhost',27017)\n",
    "#db = client.BankData\n",
    "#collection = db.RealTime"
   ]
  },
  {
   "cell_type": "code",
   "execution_count": 49,
   "metadata": {
    "extensions": {
     "jupyter_dashboards": {
      "version": 1,
      "views": {
       "grid_default": {
        "hidden": true
       },
       "report_default": {
        "hidden": true
       }
      }
     }
    }
   },
   "outputs": [],
   "source": [
    "#df_real = pd.DataFrame(list(collection.find()))\n",
    "#df_act = pd.DataFrame(list(collection.find()))"
   ]
  },
  {
   "cell_type": "code",
   "execution_count": 50,
   "metadata": {
    "extensions": {
     "jupyter_dashboards": {
      "version": 1,
      "views": {
       "grid_default": {
        "hidden": true
       },
       "report_default": {
        "hidden": true
       }
      }
     }
    }
   },
   "outputs": [],
   "source": [
    "#df_real.head(2)"
   ]
  },
  {
   "cell_type": "code",
   "execution_count": 51,
   "metadata": {
    "extensions": {
     "jupyter_dashboards": {
      "version": 1,
      "views": {
       "grid_default": {
        "hidden": true
       },
       "report_default": {
        "hidden": true
       }
      }
     }
    }
   },
   "outputs": [],
   "source": [
    "#df_real.shape"
   ]
  },
  {
   "cell_type": "code",
   "execution_count": 52,
   "metadata": {
    "extensions": {
     "jupyter_dashboards": {
      "version": 1,
      "views": {
       "grid_default": {
        "hidden": true
       },
       "report_default": {
        "hidden": true
       }
      }
     }
    }
   },
   "outputs": [],
   "source": [
    "#df_real.drop(['_id'],1, inplace=True)"
   ]
  },
  {
   "cell_type": "code",
   "execution_count": 53,
   "metadata": {
    "extensions": {
     "jupyter_dashboards": {
      "version": 1,
      "views": {
       "grid_default": {
        "hidden": true
       },
       "report_default": {
        "hidden": true
       }
      }
     }
    }
   },
   "outputs": [],
   "source": [
    "#df_real_md=pd.get_dummies(df_real, columns=['Geography', 'Gender'], drop_first=True)"
   ]
  },
  {
   "cell_type": "code",
   "execution_count": 54,
   "metadata": {
    "extensions": {
     "jupyter_dashboards": {
      "version": 1,
      "views": {
       "grid_default": {
        "hidden": true
       },
       "report_default": {
        "hidden": true
       }
      }
     }
    }
   },
   "outputs": [],
   "source": [
    "#df_real_md=df_real_md.convert_objects(convert_numeric=True)"
   ]
  },
  {
   "cell_type": "code",
   "execution_count": 55,
   "metadata": {
    "extensions": {
     "jupyter_dashboards": {
      "version": 1,
      "views": {
       "grid_default": {
        "hidden": true
       },
       "report_default": {
        "hidden": true
       }
      }
     }
    }
   },
   "outputs": [],
   "source": [
    "#df_real_md.info()"
   ]
  },
  {
   "cell_type": "code",
   "execution_count": 56,
   "metadata": {
    "extensions": {
     "jupyter_dashboards": {
      "version": 1,
      "views": {
       "grid_default": {
        "hidden": true
       },
       "report_default": {
        "hidden": true
       }
      }
     }
    }
   },
   "outputs": [],
   "source": [
    "#df_real_md.head(2)"
   ]
  },
  {
   "cell_type": "code",
   "execution_count": 57,
   "metadata": {
    "extensions": {
     "jupyter_dashboards": {
      "version": 1,
      "views": {
       "grid_default": {
        "hidden": true
       },
       "report_default": {
        "hidden": true
       }
      }
     }
    }
   },
   "outputs": [],
   "source": [
    "#y_pred = clf_gini.predict([[45,91549.8,765,47139.4,1,1,1,2,0,1,0]])\n",
    "#y_pred"
   ]
  },
  {
   "cell_type": "code",
   "execution_count": 58,
   "metadata": {
    "extensions": {
     "jupyter_dashboards": {
      "version": 1,
      "views": {
       "grid_default": {
        "hidden": true
       },
       "report_default": {
        "hidden": true
       }
      }
     }
    }
   },
   "outputs": [],
   "source": [
    "#a=clf_gini.predict(df_real_md)\n",
    "#a"
   ]
  },
  {
   "cell_type": "code",
   "execution_count": 59,
   "metadata": {
    "extensions": {
     "jupyter_dashboards": {
      "version": 1,
      "views": {
       "grid_default": {
        "hidden": true
       },
       "report_default": {
        "hidden": true
       }
      }
     }
    }
   },
   "outputs": [],
   "source": [
    "#df_real['Exited'] = a\n",
    "#df_real.info()"
   ]
  },
  {
   "cell_type": "code",
   "execution_count": 60,
   "metadata": {
    "extensions": {
     "jupyter_dashboards": {
      "version": 1,
      "views": {
       "grid_default": {
        "hidden": true
       },
       "report_default": {
        "hidden": true
       }
      }
     }
    }
   },
   "outputs": [],
   "source": [
    "#df_real['Exited'] = df_real['Exited'].astype(int)"
   ]
  },
  {
   "cell_type": "code",
   "execution_count": 61,
   "metadata": {
    "extensions": {
     "jupyter_dashboards": {
      "version": 1,
      "views": {
       "grid_default": {
        "hidden": true
       },
       "report_default": {
        "hidden": true
       }
      }
     }
    }
   },
   "outputs": [],
   "source": [
    "#df_real.tail(5)"
   ]
  },
  {
   "cell_type": "code",
   "execution_count": 62,
   "metadata": {
    "extensions": {
     "jupyter_dashboards": {
      "version": 1,
      "views": {
       "grid_default": {
        "hidden": true
       },
       "report_default": {
        "hidden": true
       }
      }
     }
    }
   },
   "outputs": [],
   "source": [
    "#df_real.shape"
   ]
  },
  {
   "cell_type": "code",
   "execution_count": 63,
   "metadata": {
    "extensions": {
     "jupyter_dashboards": {
      "version": 1,
      "views": {
       "grid_default": {
        "hidden": true
       },
       "report_default": {
        "hidden": true
       }
      }
     }
    }
   },
   "outputs": [],
   "source": [
    "#df_act = df_act.drop(['_id'], axis=1)"
   ]
  },
  {
   "cell_type": "code",
   "execution_count": 64,
   "metadata": {
    "extensions": {
     "jupyter_dashboards": {
      "version": 1,
      "views": {
       "grid_default": {
        "hidden": true
       },
       "report_default": {
        "hidden": true
       }
      }
     }
    }
   },
   "outputs": [],
   "source": [
    "#path = r\"D:\\Project1\\Churn_Real1.xlsx\"\n",
    "#writer = pd.ExcelWriter(path, engine='openpyxl')\n",
    "#df_act.to_excel(writer, 'Actual', index=False)\n",
    "#df_real.to_excel(writer, 'Predicted', index=False)\n",
    "#writer.save()"
   ]
  },
  {
   "cell_type": "markdown",
   "metadata": {
    "extensions": {
     "jupyter_dashboards": {
      "version": 1,
      "views": {
       "grid_default": {
        "col": 8,
        "height": 4,
        "hidden": false,
        "row": 22,
        "width": 4
       },
       "report_default": {
        "hidden": false
       }
      }
     }
    }
   },
   "source": [
    "# entropy"
   ]
  },
  {
   "cell_type": "code",
   "execution_count": 65,
   "metadata": {
    "extensions": {
     "jupyter_dashboards": {
      "version": 1,
      "views": {
       "grid_default": {
        "hidden": true
       },
       "report_default": {
        "hidden": true
       }
      }
     }
    }
   },
   "outputs": [],
   "source": [
    "#X1_train, X1_test, y1_train, y1_test = train_test_split( X, Y, test_size = 0.25, random_state = 100)"
   ]
  },
  {
   "cell_type": "code",
   "execution_count": 66,
   "metadata": {
    "extensions": {
     "jupyter_dashboards": {
      "version": 1,
      "views": {
       "grid_default": {
        "hidden": true
       },
       "report_default": {
        "hidden": true
       }
      }
     }
    }
   },
   "outputs": [],
   "source": [
    "#clf_entropy = DecisionTreeClassifier(criterion='entropy', splitter='best', max_depth=None, min_samples_split=2, min_samples_leaf=1, min_weight_fraction_leaf=0.0, max_features=None, random_state=None, max_leaf_nodes=None, min_impurity_decrease=0.0, min_impurity_split=None, class_weight=None, presort=False)\n",
    "#clf_entropy.fit(X1_train, y1_train)"
   ]
  },
  {
   "cell_type": "code",
   "execution_count": 67,
   "metadata": {
    "extensions": {
     "jupyter_dashboards": {
      "version": 1,
      "views": {
       "grid_default": {
        "hidden": true
       },
       "report_default": {
        "hidden": true
       }
      }
     }
    }
   },
   "outputs": [],
   "source": [
    "#df_md.head(5)"
   ]
  },
  {
   "cell_type": "code",
   "execution_count": 68,
   "metadata": {
    "extensions": {
     "jupyter_dashboards": {
      "version": 1,
      "views": {
       "grid_default": {
        "hidden": true
       },
       "report_default": {
        "hidden": true
       }
      }
     }
    }
   },
   "outputs": [],
   "source": [
    "#clf_entropy.predict([[42,159660.80,502,113931.57,1,0,3,8,0,0,0]])"
   ]
  },
  {
   "cell_type": "code",
   "execution_count": 69,
   "metadata": {
    "extensions": {
     "jupyter_dashboards": {
      "version": 1,
      "views": {
       "grid_default": {
        "hidden": true
       },
       "report_default": {
        "hidden": true
       }
      }
     }
    }
   },
   "outputs": [],
   "source": [
    "#y1_pred_en = clf_entropy.predict(X1_test)\n",
    "#y1_pred_en"
   ]
  },
  {
   "cell_type": "code",
   "execution_count": 70,
   "metadata": {
    "extensions": {
     "jupyter_dashboards": {
      "version": 1,
      "views": {
       "grid_default": {
        "hidden": true
       },
       "report_default": {
        "hidden": true
       }
      }
     }
    }
   },
   "outputs": [],
   "source": [
    "#print(\"Accuracy is \", accuracy_score(y1_test,y1_pred_en)*100)"
   ]
  },
  {
   "cell_type": "code",
   "execution_count": 71,
   "metadata": {
    "extensions": {
     "jupyter_dashboards": {
      "version": 1,
      "views": {
       "grid_default": {
        "hidden": true
       },
       "report_default": {
        "hidden": true
       }
      }
     }
    }
   },
   "outputs": [],
   "source": [
    "#result = clf_entropy.score(X1_test, y1_test)\n",
    "#print(\"Accuracy: %.3f%%\" % (result*100.0))"
   ]
  },
  {
   "cell_type": "code",
   "execution_count": 72,
   "metadata": {
    "extensions": {
     "jupyter_dashboards": {
      "version": 1,
      "views": {
       "grid_default": {
        "hidden": true
       },
       "report_default": {
        "hidden": true
       }
      }
     }
    }
   },
   "outputs": [],
   "source": [
    "#from sklearn.metrics import roc_curve, auc\n",
    "#import matplotlib.pyplot as plt\n",
    "#plt.style.use('ggplot')\n",
    "#%matplotlib inline\n",
    "#\n",
    "#Y_predict_probabilities = clf_entropy.predict_proba(X1_test)[:,1]\n",
    "#\n",
    "#fpr, tpr, _ = roc_curve(y1_test, Y_predict_probabilities)\n",
    "#roc_auc = auc(fpr, tpr)\n",
    "#\n",
    "#plt.figure()\n",
    "#plt.plot(fpr, tpr, color='darkorange',\n",
    "#         lw=2, label='ROC curve (area = %0.2f)' % roc_auc)\n",
    "#plt.plot([0, 1], [0, 1], color='navy', lw=2, linestyle='--')\n",
    "#plt.xlim([0.0, 1.0])\n",
    "#plt.ylim([0.0, 1.05])\n",
    "#plt.xlabel('False Positive Rate')\n",
    "#plt.ylabel('True Positive Rate')\n",
    "#plt.title('ROC Curve')\n",
    "#plt.legend(loc=\"lower right\")\n",
    "#plt.show()"
   ]
  },
  {
   "cell_type": "code",
   "execution_count": 73,
   "metadata": {
    "extensions": {
     "jupyter_dashboards": {
      "version": 1,
      "views": {
       "grid_default": {
        "hidden": true
       },
       "report_default": {
        "hidden": true
       }
      }
     }
    }
   },
   "outputs": [],
   "source": [
    "#y1_test['Predicted'] = y1_pred_en\n",
    "#y1_test"
   ]
  },
  {
   "cell_type": "code",
   "execution_count": 74,
   "metadata": {
    "extensions": {
     "jupyter_dashboards": {
      "version": 1,
      "views": {
       "grid_default": {
        "hidden": true
       },
       "report_default": {
        "hidden": true
       }
      }
     }
    },
    "scrolled": true
   },
   "outputs": [],
   "source": [
    "#import graphviz \n",
    "#from sklearn import tree\n",
    "#\n",
    "#\n",
    "#dot_data = tree.export_graphviz(clf_entropy, out_file=None, \n",
    "#                         feature_names=feat_names,  \n",
    "#                         class_names='Exited',  \n",
    "#                         filled=True, rounded=True,  \n",
    "#                         special_characters=True)  \n",
    "#\n",
    "#graph = graphviz.Source(dot_data) \n",
    "#graph\n"
   ]
  },
  {
   "cell_type": "code",
   "execution_count": null,
   "metadata": {
    "extensions": {
     "jupyter_dashboards": {
      "version": 1,
      "views": {
       "grid_default": {
        "hidden": true
       },
       "report_default": {
        "hidden": true
       }
      }
     }
    }
   },
   "outputs": [],
   "source": []
  }
 ],
 "metadata": {
  "extensions": {
   "jupyter_dashboards": {
    "activeView": "report_default",
    "version": 1,
    "views": {
     "grid_default": {
      "cellMargin": 10,
      "defaultCellHeight": 20,
      "maxColumns": 12,
      "name": "grid",
      "type": "grid"
     },
     "report_default": {
      "name": "report",
      "type": "report"
     }
    }
   }
  },
  "kernelspec": {
   "display_name": "Python [conda env:Anaconda]",
   "language": "python",
   "name": "conda-env-Anaconda-py"
  },
  "language_info": {
   "codemirror_mode": {
    "name": "ipython",
    "version": 3
   },
   "file_extension": ".py",
   "mimetype": "text/x-python",
   "name": "python",
   "nbconvert_exporter": "python",
   "pygments_lexer": "ipython3",
   "version": "3.6.3"
  },
  "widgets": {
   "application/vnd.jupyter.widget-state+json": {
    "state": {},
    "version_major": 2,
    "version_minor": 0
   }
  }
 },
 "nbformat": 4,
 "nbformat_minor": 2
}
